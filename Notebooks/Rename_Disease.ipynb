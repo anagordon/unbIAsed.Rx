{
  "cells": [
    {
      "cell_type": "markdown",
      "metadata": {},
      "source": [
        "This notebook is to cluster the various diseases together that are the same disease, or indication for taking a drug but written different ways. Rename disease after filtering by medicine so it is more accurate?"
      ]
    },
    {
      "cell_type": "code",
      "execution_count": null,
      "metadata": {
        "id": "-s2dBVAMd5L7"
      },
      "outputs": [],
      "source": [
        "import pandas as pd\n",
        "import numpy as np\n",
        "\n",
        "import os\n",
        "from tqdm import tqdm\n",
        "!pip install scispacy\n",
        "!pip install https://s3-us-west-2.amazonaws.com/ai2-s2-scispacy/releases/v0.5.4/en_ner_bc5cdr_md-0.5.4.tar.gz\n",
        "!pip install spacy\n",
        "import en_ner_bc5cdr_md\n",
        "!python3 -m spacy download en_core_web_sm\n",
        "import spacy\n",
        "import re\n",
        "!pip install sentence-transformers\n",
        "!pip install scikit-learn\n",
        "!pip install hdbscan\n",
        "from sklearn.cluster import DBSCAN\n",
        "import hdbscan \n",
        "!pip install transformers torch\n"
      ]
    },
    {
      "cell_type": "code",
      "execution_count": null,
      "metadata": {
        "colab": {
          "base_uri": "https://localhost:8080/"
        },
        "id": "mzsp82y3eBUF",
        "outputId": "0c0b3512-ff8a-4001-9ffd-a2322bb830fc"
      },
      "outputs": [],
      "source": [
        "# path_reactions = '/content/drive/My Drive/CSV/reactions.csv'\n",
        "# path_reports = '/content/drive/My Drive/CSV/reports.csv'\n",
        "path_drugs = '/Users/jada/Desktop/Project/unbIAsed.Rx/Notebooks/CSVFiles/drugs.csv'\n",
        "\n",
        "# df_reactions = pd.read_csv(path_reactions)\n",
        "# df_reports = pd.read_csv(path_reports)\n",
        "df_drugs = pd.read_csv(path_drugs)\n",
        "pd.set_option('display.width', 500)\n",
        "print(df_drugs.head())"
      ]
    },
    {
      "cell_type": "code",
      "execution_count": null,
      "metadata": {
        "colab": {
          "base_uri": "https://localhost:8080/"
        },
        "id": "kYnbxQWWBVlR",
        "outputId": "8d061a89-da46-430a-ba70-de5642a18d96"
      },
      "outputs": [],
      "source": [
        "df_drugs['INDICATION_NAME_ENG'] = df_drugs['INDICATION_NAME_ENG'].str.upper()\n",
        "unique_diseases = df_drugs['INDICATION_NAME_ENG'].unique()\n",
        "print(len(unique_diseases))\n",
        "\n",
        "disease_df = pd.DataFrame(unique_diseases, columns=['INDICATION_NAME_ENG'])\n",
        "print(disease_df.head(20))\n",
        "\n",
        "save_directory = '/Users/jada/Desktop/Project/unbIAsed.Rx/Notebooks/CSVFiles'\n",
        "disease_df.to_csv(os.path.join(save_directory, 'diseases.csv'), index=False)"
      ]
    },
    {
      "cell_type": "code",
      "execution_count": null,
      "metadata": {
        "id": "jkHFD_-mE2pT"
      },
      "outputs": [],
      "source": [
        "# load the diseases\n",
        "diseases_path = '/Users/jada/Desktop/Project/unbIAsed.Rx/Notebooks/CSVFiles/diseases.csv'\n",
        "diseases_df = pd.read_csv(diseases_path)"
      ]
    },
    {
      "cell_type": "code",
      "execution_count": null,
      "metadata": {
        "colab": {
          "base_uri": "https://localhost:8080/"
        },
        "collapsed": true,
        "id": "WLD3bMdTTtQM",
        "outputId": "796a7bf6-cfc4-41fe-d066-b88973c95275"
      },
      "outputs": [],
      "source": [
        "# testing the NER model\n",
        "\n",
        "nlp = spacy.load('en_ner_bc5cdr_md')\n",
        "def get_disease_group(indication):\n",
        "    doc = nlp(indication)\n",
        "    for ent in doc.ents:\n",
        "        if ent.label_ == \"DISEASE\":\n",
        "            return ent.text\n",
        "    return indication \n",
        "\n",
        "disease = get_disease_group('RECTAL CANCER STAGE IV')\n",
        "print(disease)"
      ]
    },
    {
      "cell_type": "code",
      "execution_count": null,
      "metadata": {},
      "outputs": [],
      "source": [
        "# data = {\n",
        "#     'INDICATION_NAME_ENG': [\n",
        "#         \"Diabetes Mellitus\", \"High blood pressure\", \"Type 2 DM\", \n",
        "#         \"Hypertension\", \"Diabetic ketoacidosis\", \"Type 1 diabetes\", \n",
        "#         \"Hypertensive crisis\", \"DM type 2\"\n",
        "#     ]\n",
        "# }\n",
        "# diseases_df = pd.DataFrame(data)"
      ]
    },
    {
      "cell_type": "code",
      "execution_count": 99,
      "metadata": {},
      "outputs": [
        {
          "name": "stdout",
          "output_type": "stream",
          "text": [
            "         REPORT_ID                        DRUGNAME                  INDICATION_NAME_ENG ALTERNATE DRUG\n",
            "86          309765                        DILTAZEM                           ARRHYTHMIA      DILTIAZEM\n",
            "1221        360100                       DILTIAZEM           BLOOD PRESSURE MEASUREMENT      DILTIAZEM\n",
            "4616        435114                          TIAZAC  PRODUCT USED FOR UNKNOWN INDICATION      DILTIAZEM\n",
            "6950     900570185                        CARDIZEM  PRODUCT USED FOR UNKNOWN INDICATION      DILTIAZEM\n",
            "7209        679082                       DILTIAZEM                         HYPERTENSION      DILTIAZEM\n",
            "...            ...                             ...                                  ...            ...\n",
            "2984475  906818078                       DILTIAZEM  PRODUCT USED FOR UNKNOWN INDICATION      DILTIAZEM\n",
            "2984496  906818078  TIAZAC DILTIAZEM HYDROCHLORIDE  PRODUCT USED FOR UNKNOWN INDICATION      DILTIAZEM\n",
            "2984674  906549930                       DILTIAZEM                         HYPERTENSION      DILTIAZEM\n",
            "2987028  902559487         DILTIAZEM HYDROCHLORIDE                         HYPERTENSION      DILTIAZEM\n",
            "2987029  902559487         DILTIAZEM HYDROCHLORIDE              CORONARY ARTERY DISEASE      DILTIAZEM\n",
            "\n",
            "[6877 rows x 4 columns]\n",
            "['ARRHYTHMIA' 'BLOOD PRESSURE MEASUREMENT'\n",
            " 'PRODUCT USED FOR UNKNOWN INDICATION' 'HYPERTENSION'\n",
            " 'ATRIAL FIBRILLATION' 'CARDIOMYOPATHY' 'MIGRAINE' 'CARDIAC DISORDER'\n",
            " 'CORONARY ARTERY DISEASE' 'CHEST PAIN' 'ANGINA PECTORIS'\n",
            " 'COMPLEX REGIONAL PAIN SYNDROME' 'RHEUMATOID ARTHRITIS'\n",
            " 'SUPRAVENTRICULAR TACHYCARDIA' 'ARRHYTHMIA SUPRAVENTRICULAR'\n",
            " 'PRINZMETAL ANGINA' 'ANGINA UNSTABLE' 'BLOOD PRESSURE INCREASED'\n",
            " 'ANAL FISSURE' 'INTENTIONAL OVERDOSE' 'BLOOD PRESSURE ABNORMAL'\n",
            " 'MYOCARDIAL INFARCTION' 'HEART VALVE INCOMPETENCE' 'HEART RATE INCREASED'\n",
            " \"RAYNAUD'S PHENOMENON\" 'EXTRASYSTOLES'\n",
            " 'CHRONIC OBSTRUCTIVE PULMONARY DISEASE'\n",
            " 'CARDIOVASCULAR EVENT PROPHYLAXIS' 'ARTERIOSPASM CORONARY'\n",
            " 'BLOOD PRESSURE MANAGEMENT' 'ATRIAL TACHYCARDIA' 'ATRIOVENTRICULAR BLOCK'\n",
            " 'PALPITATIONS' 'ACUTE MYOCARDIAL INFARCTION' 'AORTIC DISSECTION'\n",
            " 'MYOCARDIAL ISCHAEMIA' 'ATRIAL FLUTTER' 'SINUS TACHYCARDIA'\n",
            " 'DYSLIPIDAEMIA' 'HEREDITARY ALPHA TRYPTASAEMIA' 'BRADYCARDIA'\n",
            " 'HEART RATE' 'CARDIAC OUTPUT' 'TACHYCARDIA' 'CARDIAC FAILURE'\n",
            " 'ESSENTIAL HYPERTENSION' 'HEART RATE IRREGULAR' 'PROSTATE CANCER'\n",
            " 'CARDIAC FAILURE CONGESTIVE' 'CARDIAC ARREST' 'PROCTALGIA'\n",
            " 'ARTERIOSCLEROSIS' 'SUICIDE ATTEMPT' 'OFF LABEL USE' 'VASOSPASM'\n",
            " 'DRUG THERAPY' 'ARTERIOSCLEROSIS CORONARY ARTERY' 'TACHYARRHYTHMIA'\n",
            " 'INNER EAR DISORDER' 'DYSPNOEA' 'ARRHYTHMIA PROPHYLAXIS'\n",
            " 'CARDIAC DISCOMFORT' 'OESOPHAGEAL STENOSIS' 'CARDIOVASCULAR DISORDER'\n",
            " 'VALVULOPLASTY CARDIAC' 'HAEMORRHOIDS' 'WOLFF-PARKINSON-WHITE SYNDROME'\n",
            " 'NERVOUS SYSTEM DISORDER']\n",
            "68\n"
          ]
        },
        {
          "name": "stderr",
          "output_type": "stream",
          "text": [
            "/var/folders/sg/pjszdfvx5rxfvg2gwg3zj2f80000gn/T/ipykernel_84468/2207046135.py:4: SettingWithCopyWarning: \n",
            "A value is trying to be set on a copy of a slice from a DataFrame.\n",
            "Try using .loc[row_indexer,col_indexer] = value instead\n",
            "\n",
            "See the caveats in the documentation: https://pandas.pydata.org/pandas-docs/stable/user_guide/indexing.html#returning-a-view-versus-a-copy\n",
            "  diltiazem_df['INDICATION_NAME_ENG'] = diltiazem_df['INDICATION_NAME_ENG'].str.upper()\n"
          ]
        }
      ],
      "source": [
        "path_diseases_drugs = '/Users/jada/Desktop/Project/unbIAsed.Rx/Notebooks/CSVFiles/drugs_alternates.csv'\n",
        "diseases_drug_df = pd.read_csv(path_diseases_drugs)\n",
        "diltiazem_df = diseases_drug_df[diseases_drug_df['ALTERNATE DRUG'] == 'DILTIAZEM']\n",
        "diltiazem_df['INDICATION_NAME_ENG'] = diltiazem_df['INDICATION_NAME_ENG'].str.upper()\n",
        "print(diltiazem_df)\n",
        "diltiazem_diseases = diltiazem_df['INDICATION_NAME_ENG'].unique()\n",
        "print(diltiazem_diseases)\n",
        "print(len(diltiazem_diseases))\n"
      ]
    },
    {
      "cell_type": "code",
      "execution_count": 100,
      "metadata": {},
      "outputs": [],
      "source": [
        "# Preprocessing\n",
        "nlp = spacy.load('en_core_web_sm')\n",
        "\n",
        "def preprocess(text):\n",
        "    text = text.lower()\n",
        "    text = re.sub(r'[^\\w\\s]', '', text)\n",
        "    doc = nlp(text)\n",
        "    return ' '.join([token.lemma_ for token in doc if not token.is_stop])\n",
        "\n",
        "tqdm.pandas()\n",
        "# preprocessed = diseases_df['INDICATION_NAME_ENG'].progress_apply(preprocess).tolist()\n",
        "preprocessed = map(lambda x: preprocess(x), diltiazem_diseases)\n",
        "preprocessed = list(preprocessed)"
      ]
    },
    {
      "cell_type": "code",
      "execution_count": 101,
      "metadata": {},
      "outputs": [
        {
          "name": "stderr",
          "output_type": "stream",
          "text": [
            "Batches: 100%|██████████| 3/3 [00:01<00:00,  2.41it/s]\n"
          ]
        }
      ],
      "source": [
        "# vectorize the data\n",
        "from sentence_transformers import SentenceTransformer\n",
        "from tqdm.autonotebook import tqdm, trange\n",
        "\n",
        "# model = SentenceTransformer('paraphrase-MiniLM-L6-v2')\n",
        "# model = SentenceTransformer('all-MiniLM-L6-v2')\n",
        "model = SentenceTransformer('paraphrase-MiniLM-L12-v2')\n",
        "# model = SentenceTransformer('all-mpnet-base-v2')\n",
        "# model = SentenceTransformer('sentence-transformers/stsb-roberta-base')\n",
        "# model = SentenceTransformer('pritamdeka/S-Biomed-Roberta-snli-multinli-stsb')\n",
        "# model = SentenceTransformer('pritamdeka/S-PubMedBert-MS-MARCO')\n",
        "\n",
        "embeddings = model.encode(preprocessed, show_progress_bar=True)"
      ]
    },
    {
      "cell_type": "code",
      "execution_count": null,
      "metadata": {},
      "outputs": [],
      "source": [
        "# vectorization\n",
        "\n",
        "from transformers import AutoModel, AutoTokenizer\n",
        "import torch\n",
        "\n",
        "# modelName = 'dmis-lab/biobert-base-cased-v1.1'\n",
        "modelName = 'allenai/scibert_scivocab_uncased'\n",
        "tokenizer = AutoTokenizer.from_pretrained(modelName)\n",
        "model = AutoModel.from_pretrained(modelName)\n",
        "\n",
        "def getEmbeddings(text):\n",
        "    inputs = tokenizer(text, return_tensors=\"pt\", padding=True, truncation=True, max_length=512)\n",
        "    with torch.no_grad():\n",
        "        outputs = model(**inputs)\n",
        "    embeddings = outputs.last_hidden_state\n",
        "    sentence_embedding = embeddings.mean(dim=1).squeeze().numpy()\n",
        "    return sentence_embedding\n",
        "\n",
        "\n",
        "embeddings = [getEmbeddings(text) for text in tqdm(preprocessed)]\n"
      ]
    },
    {
      "cell_type": "code",
      "execution_count": 102,
      "metadata": {},
      "outputs": [
        {
          "name": "stdout",
          "output_type": "stream",
          "text": [
            "Cluster 10:\n",
            "  - ARRHYTHMIA\n",
            "Cluster 8:\n",
            "  - BLOOD PRESSURE MEASUREMENT\n",
            "Cluster -1:\n",
            "  - PRODUCT USED FOR UNKNOWN INDICATION\n",
            "Cluster 4:\n",
            "  - HYPERTENSION\n",
            "Cluster 12:\n",
            "  - CARDIAC DISORDER\n",
            "Cluster 6:\n",
            "  - CORONARY ARTERY DISEASE\n",
            "Cluster 3:\n",
            "  - ANGINA PECTORIS\n",
            "Cluster 11:\n",
            "  - SUPRAVENTRICULAR TACHYCARDIA\n",
            "Cluster 7:\n",
            "  - BLOOD PRESSURE INCREASED\n",
            "Cluster 0:\n",
            "  - INTENTIONAL OVERDOSE\n",
            "Cluster 9:\n",
            "  - MYOCARDIAL INFARCTION\n",
            "Cluster 5:\n",
            "  - HEART RATE INCREASED\n",
            "Cluster 2:\n",
            "  - DYSLIPIDAEMIA\n",
            "Cluster 13:\n",
            "  - CARDIAC FAILURE\n",
            "Cluster 1:\n",
            "  - INNER EAR DISORDER\n",
            "15\n",
            "1\n"
          ]
        }
      ],
      "source": [
        "# clustering\n",
        "\n",
        "dbscan = DBSCAN(eps=0.5, min_samples=2, metric='cosine')\n",
        "\n",
        "clusterer = hdbscan.HDBSCAN(\n",
        "    metric='euclidean', \n",
        "    min_cluster_size=2,  # Adjust based on dataset size and desired granularity\n",
        "    min_samples=1,  # Adjust based on noise level\n",
        "    cluster_selection_method='leaf' # or try 'leaf')\n",
        "    )  \n",
        "\n",
        "clusters = clusterer.fit_predict(embeddings)\n",
        "\n",
        "clustered_indications = {}\n",
        "for i, label in enumerate(clusters):\n",
        "    if label not in clustered_indications:\n",
        "        clustered_indications[label] = []\n",
        "    # clustered_indications[label].append(diseases_df['INDICATION_NAME_ENG'][i]) # change as needed\n",
        "        clustered_indications[label].append(diltiazem_diseases[i])\n",
        "\n",
        "# Print clustered indications\n",
        "for cluster, descriptions in clustered_indications.items():\n",
        "    print(f\"Cluster {cluster}:\")\n",
        "    for description in descriptions:\n",
        "        print(f\"  - {description}\")\n",
        "\n",
        "print(len(clustered_indications))\n",
        "print(len(clustered_indications.get(-1)))"
      ]
    },
    {
      "cell_type": "code",
      "execution_count": 104,
      "metadata": {},
      "outputs": [
        {
          "name": "stderr",
          "output_type": "stream",
          "text": [
            "huggingface/tokenizers: The current process just got forked, after parallelism has already been used. Disabling parallelism to avoid deadlocks...\n",
            "To disable this warning, you can either:\n",
            "\t- Avoid using `tokenizers` before the fork if possible\n",
            "\t- Explicitly set the environment variable TOKENIZERS_PARALLELISM=(true | false)\n"
          ]
        },
        {
          "name": "stdout",
          "output_type": "stream",
          "text": [
            "Collecting umap\n",
            "  Downloading umap-0.1.1.tar.gz (3.2 kB)\n",
            "  Preparing metadata (setup.py) ... \u001b[?25ldone\n",
            "\u001b[?25hBuilding wheels for collected packages: umap\n",
            "  Building wheel for umap (setup.py) ... \u001b[?25ldone\n",
            "\u001b[?25h  Created wheel for umap: filename=umap-0.1.1-py3-none-any.whl size=3542 sha256=f8ba94fdad8730949df524319ef9340e09828c3f4cf82c1929c4defe7023813f\n",
            "  Stored in directory: /Users/jada/Library/Caches/pip/wheels/15/f1/28/53dcf7a309118ed35d810a5f9cb995217800f3f269ab5771cb\n",
            "Successfully built umap\n",
            "Installing collected packages: umap\n",
            "Successfully installed umap-0.1.1\n"
          ]
        }
      ],
      "source": [
        "!pip install umap"
      ]
    },
    {
      "cell_type": "code",
      "execution_count": 107,
      "metadata": {},
      "outputs": [
        {
          "data": {
            "image/png": "[encoded data removed]",
            "text/plain": [
              "<Figure size 640x480 with 1 Axes>"
            ]
          },
          "metadata": {},
          "output_type": "display_data"
        }
      ],
      "source": [
        "import matplotlib.pyplot as plt\n",
        "from sklearn.decomposition import PCA\n",
        "\n",
        "# Perform PCA dimensionality reduction\n",
        "pca = PCA(n_components=2)  # or 3 for 3D\n",
        "embeddings_pca = pca.fit_transform(embeddings)\n",
        "\n",
        "# Plot the clusters\n",
        "if pca.n_components == 2:\n",
        "    plt.scatter(embeddings_pca[:, 0], embeddings_pca[:, 1], c=clusters)\n",
        "    plt.xlabel(\"PCA Dimension 1\")\n",
        "    plt.ylabel(\"PCA Dimension 2\")\n",
        "else:\n",
        "    fig = plt.figure()\n",
        "    ax = fig.add_subplot(111, projection='3d')\n",
        "    ax.scatter(embeddings_pca[:, 0], embeddings_pca[:, 1], embeddings_pca[:, 2], c=clusters)\n",
        "    ax.set_xlabel(\"PCA Dimension 1\")\n",
        "    ax.set_ylabel(\"PCA Dimension 2\")\n",
        "    ax.set_zlabel(\"PCA Dimension 3\")\n",
        "plt.title(\"Clusters\")\n",
        "plt.show()"
      ]
    },
    {
      "cell_type": "code",
      "execution_count": 108,
      "metadata": {},
      "outputs": [
        {
          "name": "stderr",
          "output_type": "stream",
          "text": [
            "/Library/Frameworks/Python.framework/Versions/3.10/lib/python3.10/site-packages/threadpoolctl.py:1214: RuntimeWarning: \n",
            "Found Intel OpenMP ('libiomp') and LLVM OpenMP ('libomp') loaded at\n",
            "the same time. Both libraries are known to be incompatible and this\n",
            "can cause random crashes or deadlocks on Linux when loaded in the\n",
            "same Python program.\n",
            "Using threadpoolctl may cause crashes or deadlocks. For more\n",
            "information and possible workarounds, please see\n",
            "    https://github.com/joblib/threadpoolctl/blob/master/multiple_openmp.md\n",
            "\n",
            "  warnings.warn(msg, RuntimeWarning)\n"
          ]
        },
        {
          "data": {
            "image/png": "[encoded data removed]",
            "text/plain": [
              "<Figure size 640x480 with 1 Axes>"
            ]
          },
          "metadata": {},
          "output_type": "display_data"
        }
      ],
      "source": [
        "import matplotlib.pyplot as plt\n",
        "from sklearn.manifold import TSNE\n",
        "\n",
        "# Perform t-SNE dimensionality reduction\n",
        "tsne = TSNE(n_components=2, random_state=42)\n",
        "embeddings_2d = tsne.fit_transform(embeddings)\n",
        "\n",
        "# Plot the clusters\n",
        "plt.scatter(embeddings_2d[:, 0], embeddings_2d[:, 1], c=clusters)\n",
        "plt.xlabel(\"t-SNE Dimension 1\")\n",
        "plt.ylabel(\"t-SNE Dimension 2\")\n",
        "plt.title(\"Clusters\")\n",
        "plt.show()"
      ]
    },
    {
      "cell_type": "code",
      "execution_count": null,
      "metadata": {},
      "outputs": [],
      "source": [
        "from transformers import GPT2LMHeadModel, GPT2Tokenizer\n",
        "\n",
        "tokenizer = GPT2Tokenizer.from_pretrained(\"gpt2\")\n",
        "model = GPT2LMHeadModel.from_pretrained(\"gpt2\")\n",
        "\n",
        "if tokenizer.pad_token is None:\n",
        "    tokenizer.add_special_tokens({'pad_token': '[PAD]'})\n",
        "\n",
        "def generateClusterName(descriptions):\n",
        "    txt = \"Summarize the following diseases into a common disease name:\"\n",
        "    for description in descriptions:\n",
        "        txt += f\" - {description}\\n\"\n",
        "    inputs = tokenizer.encode(\n",
        "        txt, \n",
        "        return_tensors=\"pt\", \n",
        "        padding=True,\n",
        "        max_length=1024,\n",
        "        truncation=True,\n",
        "        add_special_tokens=True\n",
        "        )\n",
        "    outputs = model.generate(\n",
        "        inputs, \n",
        "        # attention_mask=inputs['attention_mask'],\n",
        "        max_length=500, \n",
        "        num_return_sequences=1, \n",
        "        no_repeat_ngram_size=2,\n",
        "        pad_token_id=tokenizer.eos_token_id\n",
        "        )\n",
        "    generated = tokenizer.decode(outputs[0], skip_special_tokens=True)\n",
        "    return generated.split('\\n')[0].strip()\n",
        "\n",
        "cluster_names= {}\n",
        "\n",
        "for cluster, description in clustered_indications.items():\n",
        "    print(cluster)\n",
        "    if cluster != -1:\n",
        "        cluster_names[cluster] = generateClusterName(description)\n",
        "        print(f\"Cluster {cluster}:\")\n",
        "        print(f\"Cluster name:\" + cluster_names[cluster])\n",
        "        for desc in description:\n",
        "            print(f\"  - {desc}\")\n",
        "\n",
        "# for cluster, description in clustered_indications.items():\n",
        "#     if cluster == -1:\n",
        "#         continue\n",
        "#     print(f\"Cluster {cluster}: {cluster_names[cluster]}\")\n",
        "#     for desc in description:\n",
        "#         print(f\"  - {desc}\")"
      ]
    },
    {
      "cell_type": "code",
      "execution_count": null,
      "metadata": {},
      "outputs": [],
      "source": [
        "tqdm.pandas()\n",
        "\n",
        "save_directory = '/Users/jada/Desktop/Project/unbIAsed.Rx/CSVFiles'\n",
        "\n",
        "# function to apply as chunks\n",
        "def process_and_save_chunk(df_chunk, chunk_index):\n",
        "    # Apply the get_alternate_drug function\n",
        "    df_chunk[\"Alternate drugname\"] = df_chunk[\"DRUGNAME\"].progress_apply(get_alternate_drug)\n",
        "    # Create the file path for saving the CSV\n",
        "    csv_file_path = os.path.join(save_directory, f\"altdrug_chunk_{chunk_index}.csv\")\n",
        "    # Save the DataFrame chunk to a CSV file\n",
        "    df_chunk.to_csv(csv_file_path, index=False)\n",
        "    # Optionally print the chunk\n",
        "    print(f\"Chunk {chunk_index} processed and saved.\")\n",
        "    print(df_chunk.head())  # Print only the first few rows to avoid clutter\n",
        "\n",
        "# Define the chunk size\n",
        "chunk_size = 250\n",
        "starting_chunk_index = 0\n",
        "# Split the DataFrame into chunks and process each chunk\n",
        "for chunk_index, start_row in enumerate(range(0, drugname_df.shape[0], chunk_size), start=starting_chunk_index):\n",
        "    # Get the current chunk\n",
        "    df_chunk = drugname_df.iloc[start_row:start_row + chunk_size]\n",
        "    # Process and save the current chunk\n",
        "    process_and_save_chunk(df_chunk, chunk_index)"
      ]
    },
    {
      "cell_type": "code",
      "execution_count": null,
      "metadata": {
        "colab": {
          "base_uri": "https://localhost:8080/"
        },
        "id": "THoNwA4QUqAb",
        "outputId": "8ca2dd22-6d5a-4e40-da5b-6ba73db314dc"
      },
      "outputs": [],
      "source": [
        "# concatenate all chunks together into a single csv file\n",
        "save_directory = '/Users/jada/Desktop/Project/unbIAsed.Rx/CSVFiles'\n",
        "output_file = os.path.join(save_directory, 'AlternateDrugs.csv')\n",
        "\n",
        "# List to store DataFrames\n",
        "df_list = []\n",
        "\n",
        "# Iterate over all files in the save directory\n",
        "for filename in sorted(os.listdir(save_directory)):\n",
        "    if filename.startswith('altdrug_chunk_') and filename.endswith('.csv'):\n",
        "        file_path = os.path.join(save_directory, filename)\n",
        "        # Read the CSV file into a DataFrame\n",
        "        df_chunk = pd.read_csv(file_path)\n",
        "        # Append the DataFrame to the list\n",
        "        df_list.append(df_chunk)\n",
        "        print(f\"Processed {filename}\")\n",
        "\n",
        "# Concatenate all DataFrames in the list\n",
        "combined_df = pd.concat(df_list, ignore_index=True)\n",
        "\n",
        "# Save the combined DataFrame to a single CSV file\n",
        "combined_df.to_csv(output_file, index=False)"
      ]
    }
  ],
  "metadata": {
    "colab": {
      "provenance": []
    },
    "kernelspec": {
      "display_name": "Python 3",
      "name": "python3"
    },
    "language_info": {
      "codemirror_mode": {
        "name": "ipython",
        "version": 3
      },
      "file_extension": ".py",
      "mimetype": "text/x-python",
      "name": "python",
      "nbconvert_exporter": "python",
      "pygments_lexer": "ipython3",
      "version": "3.10.7"
    }
  },
  "nbformat": 4,
  "nbformat_minor": 0
}
