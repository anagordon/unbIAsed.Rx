{
  "cells": [
    {
      "cell_type": "code",
      "execution_count": null,
      "metadata": {
        "collapsed": true,
        "id": "w1ejYUmXd1Cq",
        "colab": {
          "base_uri": "https://localhost:8080/"
        },
        "outputId": "63508c41-a29b-4240-e8c0-31a7074fff8b"
      },
      "outputs": [
        {
          "output_type": "stream",
          "name": "stdout",
          "text": [
            "Mounted at /content/drive\n"
          ]
        }
      ],
      "source": [
        "from google.colab import drive\n",
        "drive.mount('/content/drive')"
      ]
    },
    {
      "cell_type": "code",
      "execution_count": null,
      "metadata": {
        "id": "-s2dBVAMd5L7",
        "colab": {
          "base_uri": "https://localhost:8080/"
        },
        "outputId": "93a9d959-fd48-4e9b-f730-b51e280a43c3"
      },
      "outputs": [
        {
          "output_type": "stream",
          "name": "stdout",
          "text": [
            "Collecting pytrials\n",
            "  Downloading pytrials-1.0.0-py2.py3-none-any.whl (7.0 kB)\n",
            "Requirement already satisfied: requests in /usr/local/lib/python3.10/dist-packages (from pytrials) (2.31.0)\n",
            "Requirement already satisfied: charset-normalizer<4,>=2 in /usr/local/lib/python3.10/dist-packages (from requests->pytrials) (3.3.2)\n",
            "Requirement already satisfied: idna<4,>=2.5 in /usr/local/lib/python3.10/dist-packages (from requests->pytrials) (3.7)\n",
            "Requirement already satisfied: urllib3<3,>=1.21.1 in /usr/local/lib/python3.10/dist-packages (from requests->pytrials) (2.0.7)\n",
            "Requirement already satisfied: certifi>=2017.4.17 in /usr/local/lib/python3.10/dist-packages (from requests->pytrials) (2024.6.2)\n",
            "Installing collected packages: pytrials\n",
            "Successfully installed pytrials-1.0.0\n"
          ]
        }
      ],
      "source": [
        "import pandas as pd\n",
        "import numpy as np\n",
        "import seaborn as sns\n",
        "import matplotlib.pyplot as plt\n",
        "from datetime import datetime\n",
        "!pip install pytrials\n",
        "\n",
        "import requests\n",
        "import json\n",
        "from pytrials.client import ClinicalTrials\n",
        "import os\n",
        "import re\n",
        "from requests.exceptions import ChunkedEncodingError, ConnectionError, Timeout\n",
        "import time\n",
        "from tqdm import tqdm"
      ]
    },
    {
      "cell_type": "code",
      "execution_count": null,
      "metadata": {
        "id": "mzsp82y3eBUF"
      },
      "outputs": [],
      "source": [
        "path_reactions = '/content/drive/My Drive/Data_MedEffect/reactions.txt'\n",
        "path_report_drug_indication = '/content/drive/My Drive/Data_MedEffect/report_drug_indication.txt'\n",
        "path_reports = '/content/drive/My Drive/Data_MedEffect/reports.txt'"
      ]
    },
    {
      "cell_type": "code",
      "execution_count": null,
      "metadata": {
        "id": "2_PrEY5VeF5V"
      },
      "outputs": [],
      "source": [
        "def strip_quotes(x):\n",
        "    return x.strip('\"') if isinstance(x, str) else x"
      ]
    },
    {
      "cell_type": "code",
      "execution_count": null,
      "metadata": {
        "id": "LBiwMmH9eKLm",
        "colab": {
          "base_uri": "https://localhost:8080/"
        },
        "outputId": "64cccca0-8d0d-4a3e-ac9a-db4dc086d7d9"
      },
      "outputs": [
        {
          "output_type": "stream",
          "name": "stdout",
          "text": [
            "         REPORT_ID         PT_NAME_ENG                                       SOC_NAME_ENG\n",
            "0                1            Pruritus             Skin and subcutaneous tissue disorders\n",
            "1                1              Oedema  General disorders and administration site cond...\n",
            "2                2           Urticaria             Skin and subcutaneous tissue disorders\n",
            "3                3            Erythema             Skin and subcutaneous tissue disorders\n",
            "4                3  Periorbital oedema                                      Eye disorders\n",
            "...            ...                 ...                                                ...\n",
            "4179584  906931316            Vomiting                         Gastrointestinal disorders\n",
            "4179585  906931316    Weight decreased                                     Investigations\n",
            "4179586  906931316    Weight increased                                     Investigations\n",
            "4179587  906931316                Acne             Skin and subcutaneous tissue disorders\n",
            "4179588  906931316             Anxiety                              Psychiatric disorders\n",
            "\n",
            "[4179589 rows x 3 columns]\n"
          ]
        }
      ],
      "source": [
        "dtype_map = {3: str, 4: str}\n",
        "df_reactions = pd.read_csv(path_reactions, delimiter = \"$\", header=None, dtype=dtype_map)\n",
        "df_reactions.columns = [\"REACTION_ID\", \"REPORT_ID\", \"DURATION\", \"DURATION_UNIT_ENG\", \"DURATION_UNIT_FR\", \"PT_NAME_ENG\", \"PT_NAME_FR\", \"SOC_NAME_ENG\", \"SOC_NAME_FR\", \"MEDDRA_VERSION\"]\n",
        "df_reactions = df_reactions.applymap(strip_quotes)\n",
        "df_reactions.drop(columns=[\"DURATION_UNIT_FR\", \"PT_NAME_FR\", \"SOC_NAME_FR\", \"MEDDRA_VERSION\", \"REACTION_ID\", \"DURATION\", \"DURATION_UNIT_ENG\"], inplace=True)\n",
        "pd.set_option('display.width', 500)\n",
        "print(df_reactions)"
      ]
    },
    {
      "cell_type": "code",
      "execution_count": null,
      "metadata": {
        "id": "noov7HAkeNzt",
        "colab": {
          "base_uri": "https://localhost:8080/"
        },
        "outputId": "32b07e74-ba23-4d74-b211-34daacc0ff0e"
      },
      "outputs": [
        {
          "output_type": "stream",
          "name": "stdout",
          "text": [
            "         REPORT_ID                      DRUGNAME                  INDICATION_NAME_ENG\n",
            "0           300198           NOVO VENLAFAXINE XR                           Depression\n",
            "1           300548               BENADRYL ELIXIR  Product used for unknown indication\n",
            "2           300488                      ELOXATIN                         Colon cancer\n",
            "3           301050  TWINJECT 0.3MG AUTO-INJECTOR                Anaphylactic reaction\n",
            "4           300841               APO-PROPAFENONE  Product used for unknown indication\n",
            "...            ...                           ...                                  ...\n",
            "2988921    1069622                       ENHERTU          HER2 positive breast cancer\n",
            "2988922     972418                       XELJANZ  Product used for unknown indication\n",
            "2988923     972418                    CETIRIZINE  Product used for unknown indication\n",
            "2988924     972418                     PLAQUENIL                 Rheumatoid arthritis\n",
            "2988925    1070830                       ENHERTU                 Breast cancer female\n",
            "\n",
            "[2988926 rows x 3 columns]\n"
          ]
        }
      ],
      "source": [
        "df_drugs= pd.read_csv(path_report_drug_indication, delimiter = \"$\", header=None)\n",
        "df_drugs.columns = [\"REPORT_DRUG_ID\", \"REPORT_ID\", \"DRUG_PRODUCT_ID\", \"DRUGNAME\", \"INDICATION_NAME_ENG\", \"INDICATION_NAME_FR\"]\n",
        "df_drugs = df_drugs.applymap(strip_quotes)\n",
        "df_drugs.drop(columns=[\"INDICATION_NAME_FR\", \"REPORT_DRUG_ID\", \"DRUG_PRODUCT_ID\"], inplace=True)\n",
        "print(df_drugs)\n",
        "pd.set_option('display.max_columns', None)"
      ]
    },
    {
      "cell_type": "code",
      "execution_count": null,
      "metadata": {
        "id": "X1nzoEBleT8U",
        "colab": {
          "base_uri": "https://localhost:8080/"
        },
        "outputId": "3d4151d8-e021-4537-dcfe-a91a3267b061"
      },
      "outputs": [
        {
          "output_type": "stream",
          "name": "stdout",
          "text": [
            "         REPORT_ID GENDER_ENG   AGE SERIOUSNESS_ENG  HEIGHT_M  WEIGHT_KG\n",
            "0                1     Female  62.0     Not Serious      1.55       66.0\n",
            "1                2     Female  70.0     Not Serious       NaN        NaN\n",
            "2                3       Male  83.0         Serious      1.73       44.0\n",
            "3                4     Female  78.0         Serious       NaN        NaN\n",
            "4                5     Female  55.0     Not Serious       NaN        NaN\n",
            "...            ...        ...   ...             ...       ...        ...\n",
            "1090228  907053719       Male   NaN         Serious       NaN        NaN\n",
            "1090229  907053726     Female  62.0         Serious       NaN        NaN\n",
            "1090230  907053728     Female  70.0         Serious       NaN        NaN\n",
            "1090231  907053730     Female   NaN         Serious       NaN        NaN\n",
            "1090232  907053734     Female  46.0     Not Serious       NaN       70.0\n",
            "\n",
            "[1090233 rows x 6 columns]\n"
          ]
        }
      ],
      "source": [
        "dtype_map = {1: str, 5: str,16: str,39: str,40: str,41: str}\n",
        "df_reports = pd.read_csv(path_reports, delimiter = \"$\", header=None, dtype=dtype_map)\n",
        "df_reports.columns = [\n",
        "    \"REPORT_ID\", \"REPORT_NO\", \"VERSION_NO\", \"DATRECEIVED\", \"DATINTRECEIVED\", \"MAH_NO\",\n",
        "    \"REPORT_TYPE_CODE\", \"REPORT_TYPE_ENG\", \"REPORT_TYPE_FR\", \"GENDER_CODE\", \"GENDER_ENG\",\n",
        "    \"GENDER_FR\", \"AGE\", \"AGE_Y\", \"AGE_UNIT_ENG\", \"AGE_UNIT_FR\", \"OUTCOME_CODE\",\n",
        "    \"OUTCOME_ENG\", \"OUTCOME_FR\", \"WEIGHT\", \"WEIGHT_UNIT_ENG\", \"WEIGHT_UNIT_FR\", \"HEIGHT\",\n",
        "    \"HEIGHT_UNIT_ENG\", \"HEIGHT_UNIT_FR\", \"SERIOUSNESS_CODE\", \"SERIOUSNESS_ENG\", \"SERIOUSNESS_FR\",  \"DEATH\",\n",
        "    \"DISABILITY\", \"CONGENITAL_ANOMALY\", \"LIFE_THREATENING\", \"HOSP_REQUIRED\",\n",
        "    \"OTHER_MEDICALLY_IMP_COND\", \"REPORTER_TYPE_ENG\", \"REPORTER_TYPE_FR\",\n",
        "    \"SOURCE_CODE\", \"SOURCE_ENG\",\"SOURCE_FR\", \"E2B_IMP_SAFETYREPORT_ID\",\n",
        "    \"AUTHORITY_NUMB\", \"COMPANY_NUMB\"]\n",
        "df_reports = df_reports.applymap(strip_quotes)\n",
        "\n",
        "def convert_age(row):\n",
        "    if row[\"AGE_UNIT_ENG\"] == \"Years\":\n",
        "        return row[\"AGE\"]\n",
        "    elif row[\"AGE_UNIT_ENG\"] == \"Months\":\n",
        "        return row[\"AGE\"] / 12\n",
        "    elif row[\"AGE_UNIT_ENG\"] == \"Weeks\":\n",
        "        return row[\"AGE\"] / 52\n",
        "    elif row[\"AGE_UNIT_ENG\"] == \"Days\":\n",
        "        return row[\"AGE\"] / 365\n",
        "    elif row[\"AGE_UNIT_ENG\"] == \"Hours\":\n",
        "        return row[\"AGE\"] / 8760\n",
        "    elif row[\"AGE_UNIT_ENG\"] == \"Decade\":\n",
        "        return row[\"AGE\"]*10\n",
        "    else:\n",
        "        return row[\"AGE\"]\n",
        "\n",
        "def convert_height(row):\n",
        "    if row[\"HEIGHT_UNIT_ENG\"] == \"Centimeter\":\n",
        "        return row[\"HEIGHT\"] / 100\n",
        "    if row[\"HEIGHT_UNIT_ENG\"] == \"Inch\":\n",
        "        return row[\"HEIGHT\"] * 0.0254\n",
        "    else:\n",
        "        return row[\"HEIGHT\"]\n",
        "\n",
        "# Function to convert weight to kilograms\n",
        "def convert_weight(row):\n",
        "    if row[\"WEIGHT_UNIT_ENG\"] == \"Pound\":\n",
        "        return row[\"WEIGHT\"] * 0.453592\n",
        "    else:\n",
        "        return row[\"WEIGHT\"]\n",
        "\n",
        "df_reports[\"AGE\"] = df_reports.apply(lambda row: convert_age(row), axis=1)\n",
        "df_reports[\"HEIGHT_M\"] = df_reports.apply(lambda row: convert_height(row), axis=1)\n",
        "df_reports[\"WEIGHT_KG\"] = df_reports.apply(lambda row: convert_weight(row), axis=1)\n",
        "\n",
        "\n",
        "df_reports.drop(columns=[\"VERSION_NO\", \"DATINTRECEIVED\", \"MAH_NO\",\n",
        "    \"REPORT_TYPE_FR\", \"GENDER_FR\", \"AGE_Y\", \"AGE_UNIT_FR\", \"OUTCOME_CODE\",\"GENDER_CODE\",\n",
        "    \"OUTCOME_FR\", \"WEIGHT_UNIT_FR\", \"HEIGHT_UNIT_FR\", \"SERIOUSNESS_FR\", \"REPORTER_TYPE_FR\",\n",
        "    \"SOURCE_CODE\", \"SOURCE_FR\", \"E2B_IMP_SAFETYREPORT_ID\", \"AUTHORITY_NUMB\", \"COMPANY_NUMB\", \"REPORTER_TYPE_ENG\",\n",
        "    \"SOURCE_ENG\", \"REPORT_TYPE_CODE\", \"REPORT_NO\", \"OUTCOME_ENG\", \"SERIOUSNESS_CODE\", \"DISABILITY\",\n",
        "    \"REPORT_TYPE_ENG\", \"AGE_UNIT_ENG\", \"HEIGHT_UNIT_ENG\", \"WEIGHT_UNIT_ENG\", \"CONGENITAL_ANOMALY\", \"HOSP_REQUIRED\", \"WEIGHT\", \"HEIGHT\", \"DATRECEIVED\", \"LIFE_THREATENING\", \"OTHER_MEDICALLY_IMP_COND\", \"DEATH\"], inplace=True)\n",
        "\n",
        "print(df_reports)\n"
      ]
    },
    {
      "cell_type": "code",
      "execution_count": null,
      "metadata": {
        "id": "mIdZv34p5coi",
        "colab": {
          "base_uri": "https://localhost:8080/"
        },
        "outputId": "8e12d99e-8895-49bd-e929-86b3554343b5"
      },
      "outputs": [
        {
          "output_type": "stream",
          "name": "stdout",
          "text": [
            "         REPORT_ID                        DRUGNAME       INDICATION_NAME_ENG\n",
            "309         316858                     AVANDIA 4MG         Diabetes mellitus\n",
            "747         333113                LANTUS   -(VIAL)  Type 1 diabetes mellitus\n",
            "784         339922                         ETHANOL  Type 2 diabetes mellitus\n",
            "893         306970  NOVOLIN GE NPH INJ SUS 100U/ML  Type 1 diabetes mellitus\n",
            "1101        354424                         HUMALOG         Diabetes mellitus\n",
            "...            ...                             ...                       ...\n",
            "2987878  907051727                         TRESIBA         Diabetes mellitus\n",
            "2987884  905973473                   CANAGLIFLOZIN         Diabetes mellitus\n",
            "2987926  907037065                         TRURAPI         Diabetes mellitus\n",
            "2988361  906061918                          LANTUS  Type 1 diabetes mellitus\n",
            "2988393  906642692                  INSULIN ASPART         Diabetes mellitus\n",
            "\n",
            "[16867 rows x 3 columns]\n"
          ]
        }
      ],
      "source": [
        "acute_myocardial_infarction = [\"Acute myocardial infarction\",\"Myocardial infarction\"]\n",
        "heart_failure = [\"Left ventricular failure\", \"Cardiac failure congestive\", \"Cardiac failure chronic\", \"Cardiac failure\", \"Right ventricular failure\"]\n",
        "hypertension = [\"Hypertension\", \"Blood pressure management\", \"Blood pressure abnormal\", \"HIGH BLOOD PRESSURE MEDS\", \"Blood pressure increased\"]\n",
        "ischemic_heart_disease = [\"Myocardial ischaemia\", \"Ischaemic heart disease prophylaxis\", \"Ischaemic cardiomyopathy\", \"Coronary artery disease\", \"Arteriosclerosis coronary artery\"]\n",
        "stroke = [\"Transient ischaemic attack\",\"Ischaemic stroke\",\"Haemorrhagic stroke\",\"Middle cerebral artery stroke\",\"Embolic stroke\",\"Lacunar stroke\",\"Thrombotic stroke\"]\n",
        "chronic_obstructive_pulmonary = [\"Chronic obstructive pulmonary disease\", \"Obstructive airways disorder\", \"Infective exacerbation of chronic obstructive airways\", \"Emphysema\", \"Chronic respiratory disease\"]\n",
        "diabetes_names = [\"Type 2 diabetes mellitus\", \"Type 1 diabetes mellitus\", \"Diabetes mellitus\", \"Diabetes\", \"diabetes\"]\n",
        "\n",
        "df_acute_myocardial_infarction = df_drugs[df_drugs['INDICATION_NAME_ENG'].isin(acute_myocardial_infarction)]\n",
        "df_heart_failure = df_drugs[df_drugs['INDICATION_NAME_ENG'].isin(heart_failure)]\n",
        "df_hypertension = df_drugs[df_drugs['INDICATION_NAME_ENG'].isin(hypertension)]\n",
        "df_ischemic_heart_disease = df_drugs[df_drugs['INDICATION_NAME_ENG'].isin(ischemic_heart_disease)]\n",
        "df_stroke = df_drugs[df_drugs['INDICATION_NAME_ENG'].isin(stroke)]\n",
        "df_chronic_obstructive_pulmonary = df_drugs[df_drugs['INDICATION_NAME_ENG'].isin(chronic_obstructive_pulmonary)]\n",
        "df_diabetes = df_drugs[df_drugs['INDICATION_NAME_ENG'].isin(diabetes_names)]\n",
        "print(df_diabetes)\n",
        "\n",
        "df_heart_diseases = {\"Myocardial infarction\": df_acute_myocardial_infarction, \"Heart failure\":df_heart_failure, \"Hypertension\": df_hypertension, \"Ischemic heart disease\": df_ischemic_heart_disease, \"Stroke\": df_stroke}"
      ]
    },
    {
      "cell_type": "code",
      "execution_count": null,
      "metadata": {
        "id": "WLD3bMdTTtQM",
        "colab": {
          "base_uri": "https://localhost:8080/"
        },
        "outputId": "1af1447e-e213-41ff-85f6-e4bff71e1e41",
        "collapsed": true
      },
      "outputs": [
        {
          "output_type": "stream",
          "name": "stderr",
          "text": [
            "<ipython-input-12-0df8b2cfb9c1>:16: SettingWithCopyWarning: \n",
            "A value is trying to be set on a copy of a slice from a DataFrame.\n",
            "Try using .loc[row_indexer,col_indexer] = value instead\n",
            "\n",
            "See the caveats in the documentation: https://pandas.pydata.org/pandas-docs/stable/user_guide/indexing.html#returning-a-view-versus-a-copy\n",
            "  curr_df[\"DRUGNAME\"] = curr_df[\"DRUGNAME\"].fillna('').astype(str)\n",
            "<ipython-input-12-0df8b2cfb9c1>:17: SettingWithCopyWarning: \n",
            "A value is trying to be set on a copy of a slice from a DataFrame.\n",
            "Try using .loc[row_indexer,col_indexer] = value instead\n",
            "\n",
            "See the caveats in the documentation: https://pandas.pydata.org/pandas-docs/stable/user_guide/indexing.html#returning-a-view-versus-a-copy\n",
            "  curr_df[\"DRUGNAME\"] = curr_df[\"DRUGNAME\"].str.upper()\n",
            "<ipython-input-12-0df8b2cfb9c1>:41: SettingWithCopyWarning: \n",
            "A value is trying to be set on a copy of a slice from a DataFrame.\n",
            "Try using .loc[row_indexer,col_indexer] = value instead\n",
            "\n",
            "See the caveats in the documentation: https://pandas.pydata.org/pandas-docs/stable/user_guide/indexing.html#returning-a-view-versus-a-copy\n",
            "  curr_df['DRUGNAME'] = curr_df['DRUGNAME'].apply(clean_drug_name)\n"
          ]
        },
        {
          "output_type": "stream",
          "name": "stdout",
          "text": [
            "         REPORT_ID                        DRUGNAME       INDICATION_NAME_ENG\n",
            "309         316858                     AVANDIA 4MG         Diabetes mellitus\n",
            "747         333113                  LANTUS    VIAL  Type 1 diabetes mellitus\n",
            "784         339922                         ETHANOL  Type 2 diabetes mellitus\n",
            "893         306970  NOVOLIN GE NPH INJ SUS 100U/ML  Type 1 diabetes mellitus\n",
            "1101        354424                         HUMALOG         Diabetes mellitus\n",
            "...            ...                             ...                       ...\n",
            "2987878  907051727                         TRESIBA         Diabetes mellitus\n",
            "2987884  905973473                   CANAGLIFLOZIN         Diabetes mellitus\n",
            "2987926  907037065                         TRURAPI         Diabetes mellitus\n",
            "2988361  906061918                          LANTUS  Type 1 diabetes mellitus\n",
            "2988393  906642692                  INSULIN ASPART         Diabetes mellitus\n",
            "\n",
            "[16867 rows x 3 columns]\n"
          ]
        },
        {
          "output_type": "stream",
          "name": "stderr",
          "text": [
            "100%|██████████| 500/500 [31:46<00:00,  3.81s/it]\n",
            "<ipython-input-12-0df8b2cfb9c1>:45: SettingWithCopyWarning: \n",
            "A value is trying to be set on a copy of a slice from a DataFrame.\n",
            "Try using .loc[row_indexer,col_indexer] = value instead\n",
            "\n",
            "See the caveats in the documentation: https://pandas.pydata.org/pandas-docs/stable/user_guide/indexing.html#returning-a-view-versus-a-copy\n",
            "  df_chunk[\"Alternate drugname\"] = df_chunk[\"DRUGNAME\"].progress_apply(get_alternate_drug)\n"
          ]
        },
        {
          "output_type": "stream",
          "name": "stdout",
          "text": [
            "Chunk 0 processed and saved.\n",
            "      REPORT_ID                        DRUGNAME       INDICATION_NAME_ENG              Alternate drugname\n",
            "309      316858                     AVANDIA 4MG         Diabetes mellitus                     AVANDIA 4MG\n",
            "747      333113                  LANTUS    VIAL  Type 1 diabetes mellitus                  LANTUS    VIAL\n",
            "784      339922                         ETHANOL  Type 2 diabetes mellitus                         ETHANOL\n",
            "893      306970  NOVOLIN GE NPH INJ SUS 100U/ML  Type 1 diabetes mellitus  NOVOLIN GE NPH INJ SUS 100U/ML\n",
            "1101     354424                         HUMALOG         Diabetes mellitus                  INSULIN LISPRO\n"
          ]
        },
        {
          "output_type": "stream",
          "name": "stderr",
          "text": [
            "100%|██████████| 500/500 [16:11<00:00,  1.94s/it]\n",
            "<ipython-input-12-0df8b2cfb9c1>:45: SettingWithCopyWarning: \n",
            "A value is trying to be set on a copy of a slice from a DataFrame.\n",
            "Try using .loc[row_indexer,col_indexer] = value instead\n",
            "\n",
            "See the caveats in the documentation: https://pandas.pydata.org/pandas-docs/stable/user_guide/indexing.html#returning-a-view-versus-a-copy\n",
            "  df_chunk[\"Alternate drugname\"] = df_chunk[\"DRUGNAME\"].progress_apply(get_alternate_drug)\n"
          ]
        },
        {
          "output_type": "stream",
          "name": "stdout",
          "text": [
            "Chunk 1 processed and saved.\n",
            "       REPORT_ID             DRUGNAME INDICATION_NAME_ENG   Alternate drugname\n",
            "93217     302259              HUMALOG   Diabetes mellitus       INSULIN LISPRO\n",
            "93486     315739              HUMALOG   Diabetes mellitus       INSULIN LISPRO\n",
            "93591     319746  LANTUS    CARTRIDGE   Diabetes mellitus  LANTUS    CARTRIDGE\n",
            "93677     322402               LANTUS   Diabetes mellitus     INSULIN GLARGINE\n",
            "93682     324055       LANTUS    VIAL   Diabetes mellitus       LANTUS    VIAL\n"
          ]
        },
        {
          "output_type": "stream",
          "name": "stderr",
          "text": [
            "100%|██████████| 500/500 [12:40<00:00,  1.52s/it]\n",
            "<ipython-input-12-0df8b2cfb9c1>:45: SettingWithCopyWarning: \n",
            "A value is trying to be set on a copy of a slice from a DataFrame.\n",
            "Try using .loc[row_indexer,col_indexer] = value instead\n",
            "\n",
            "See the caveats in the documentation: https://pandas.pydata.org/pandas-docs/stable/user_guide/indexing.html#returning-a-view-versus-a-copy\n",
            "  df_chunk[\"Alternate drugname\"] = df_chunk[\"DRUGNAME\"].progress_apply(get_alternate_drug)\n"
          ]
        },
        {
          "output_type": "stream",
          "name": "stdout",
          "text": [
            "Chunk 2 processed and saved.\n",
            "        REPORT_ID        DRUGNAME       INDICATION_NAME_ENG     Alternate drugname\n",
            "183349  906803227       METFORMIN  Type 2 diabetes mellitus              METFORMIN\n",
            "183358  906886012       METFORMIN         Diabetes mellitus              METFORMIN\n",
            "184030  904428338      GLICLAZIDE         Diabetes mellitus             GLICLAZIDE\n",
            "184872  903921327  INSULIN ASPART         Diabetes mellitus  INSULIN ASPART, HUMAN\n",
            "186272  907021206       NOVORAPID  Type 1 diabetes mellitus  INSULIN ASPART, HUMAN\n"
          ]
        },
        {
          "output_type": "stream",
          "name": "stderr",
          "text": [
            "100%|██████████| 500/500 [10:36<00:00,  1.27s/it]\n",
            "<ipython-input-12-0df8b2cfb9c1>:45: SettingWithCopyWarning: \n",
            "A value is trying to be set on a copy of a slice from a DataFrame.\n",
            "Try using .loc[row_indexer,col_indexer] = value instead\n",
            "\n",
            "See the caveats in the documentation: https://pandas.pydata.org/pandas-docs/stable/user_guide/indexing.html#returning-a-view-versus-a-copy\n",
            "  df_chunk[\"Alternate drugname\"] = df_chunk[\"DRUGNAME\"].progress_apply(get_alternate_drug)\n"
          ]
        },
        {
          "output_type": "stream",
          "name": "stdout",
          "text": [
            "Chunk 3 processed and saved.\n",
            "        REPORT_ID         DRUGNAME       INDICATION_NAME_ENG                                 Alternate drugname\n",
            "271150     727901          INSULIN  Type 2 diabetes mellitus                     INSULIN DEGLUDEC / LIRAGLUTIDE\n",
            "271405    1044100  APO SITAGLIPTIN  Type 2 diabetes mellitus                                        SITAGLIPTIN\n",
            "272004  905831138       GLICLAZIDE         Diabetes mellitus                                         GLICLAZIDE\n",
            "272060  906494605             INS.         Diabetes mellitus  INSULINS AND ANALOGS FOR INJECTION, INTERMEDIA...\n",
            "272253  906544998      SEMAGLUTIDE         Diabetes mellitus                                        SEMAGLUTIDE\n"
          ]
        },
        {
          "output_type": "stream",
          "name": "stderr",
          "text": [
            "100%|██████████| 500/500 [09:09<00:00,  1.10s/it]\n",
            "<ipython-input-12-0df8b2cfb9c1>:45: SettingWithCopyWarning: \n",
            "A value is trying to be set on a copy of a slice from a DataFrame.\n",
            "Try using .loc[row_indexer,col_indexer] = value instead\n",
            "\n",
            "See the caveats in the documentation: https://pandas.pydata.org/pandas-docs/stable/user_guide/indexing.html#returning-a-view-versus-a-copy\n",
            "  df_chunk[\"Alternate drugname\"] = df_chunk[\"DRUGNAME\"].progress_apply(get_alternate_drug)\n"
          ]
        },
        {
          "output_type": "stream",
          "name": "stdout",
          "text": [
            "Chunk 4 processed and saved.\n",
            "        REPORT_ID         DRUGNAME       INDICATION_NAME_ENG        Alternate drugname\n",
            "374257     328898  GLUCONORM 1.0MG  Type 2 diabetes mellitus               REPAGLINIDE\n",
            "374312     331435  LEVEMIR PENFILL  Type 2 diabetes mellitus           INSULIN DETEMIR\n",
            "374408     338596        GLYBURIDE         Diabetes mellitus                 GLYBURIDE\n",
            "374433     337132           APIDRA         Diabetes mellitus  INSULIN GLULISINE, HUMAN\n",
            "374462     340643         GLUMETZA         Diabetes mellitus                 METFORMIN\n"
          ]
        },
        {
          "output_type": "stream",
          "name": "stderr",
          "text": [
            "100%|██████████| 500/500 [06:58<00:00,  1.19it/s]\n",
            "<ipython-input-12-0df8b2cfb9c1>:45: SettingWithCopyWarning: \n",
            "A value is trying to be set on a copy of a slice from a DataFrame.\n",
            "Try using .loc[row_indexer,col_indexer] = value instead\n",
            "\n",
            "See the caveats in the documentation: https://pandas.pydata.org/pandas-docs/stable/user_guide/indexing.html#returning-a-view-versus-a-copy\n",
            "  df_chunk[\"Alternate drugname\"] = df_chunk[\"DRUGNAME\"].progress_apply(get_alternate_drug)\n"
          ]
        },
        {
          "output_type": "stream",
          "name": "stdout",
          "text": [
            "Chunk 5 processed and saved.\n",
            "        REPORT_ID                                           DRUGNAME       INDICATION_NAME_ENG                                 Alternate drugname\n",
            "456370    1033499                                           INVOKANA         Diabetes mellitus                                      CANAGLIFLOZIN\n",
            "456406  906248645                                            HUMALOG  Type 1 diabetes mellitus                                     INSULIN LISPRO\n",
            "456775    1036365  OZEMPIC MULTIDOSE PREFILLED PEN DISPENSES 1MG ...  Type 2 diabetes mellitus  OZEMPIC MULTIDOSE PREFILLED PEN DISPENSES 1MG ...\n",
            "457258  906364832                                        SEMAGLUTIDE  Type 2 diabetes mellitus                                        SEMAGLUTIDE\n",
            "457390  906386561                                               INS.         Diabetes mellitus  INSULINS AND ANALOGS FOR INJECTION, INTERMEDIA...\n"
          ]
        },
        {
          "output_type": "stream",
          "name": "stderr",
          "text": [
            "100%|██████████| 500/500 [05:50<00:00,  1.42it/s]\n",
            "<ipython-input-12-0df8b2cfb9c1>:45: SettingWithCopyWarning: \n",
            "A value is trying to be set on a copy of a slice from a DataFrame.\n",
            "Try using .loc[row_indexer,col_indexer] = value instead\n",
            "\n",
            "See the caveats in the documentation: https://pandas.pydata.org/pandas-docs/stable/user_guide/indexing.html#returning-a-view-versus-a-copy\n",
            "  df_chunk[\"Alternate drugname\"] = df_chunk[\"DRUGNAME\"].progress_apply(get_alternate_drug)\n"
          ]
        },
        {
          "output_type": "stream",
          "name": "stdout",
          "text": [
            "Chunk 6 processed and saved.\n",
            "        REPORT_ID   DRUGNAME       INDICATION_NAME_ENG Alternate drugname\n",
            "535638  903050048  METFORMIN  Type 2 diabetes mellitus          METFORMIN\n",
            "535891  903105065    HUMALOG         Diabetes mellitus     INSULIN LISPRO\n",
            "535915     909324    OZEMPIC  Type 2 diabetes mellitus        SEMAGLUTIDE\n",
            "536265     909968    OZEMPIC  Type 2 diabetes mellitus        SEMAGLUTIDE\n",
            "536327     913518    TRESIBA         Diabetes mellitus   INSULIN DEGLUDEC\n"
          ]
        },
        {
          "output_type": "stream",
          "name": "stderr",
          "text": [
            "100%|██████████| 500/500 [06:04<00:00,  1.37it/s]\n",
            "<ipython-input-12-0df8b2cfb9c1>:45: SettingWithCopyWarning: \n",
            "A value is trying to be set on a copy of a slice from a DataFrame.\n",
            "Try using .loc[row_indexer,col_indexer] = value instead\n",
            "\n",
            "See the caveats in the documentation: https://pandas.pydata.org/pandas-docs/stable/user_guide/indexing.html#returning-a-view-versus-a-copy\n",
            "  df_chunk[\"Alternate drugname\"] = df_chunk[\"DRUGNAME\"].progress_apply(get_alternate_drug)\n"
          ]
        },
        {
          "output_type": "stream",
          "name": "stdout",
          "text": [
            "Chunk 7 processed and saved.\n",
            "        REPORT_ID             DRUGNAME       INDICATION_NAME_ENG Alternate drugname\n",
            "619925  901741588              HUMALOG         Diabetes mellitus     INSULIN LISPRO\n",
            "620043  901606978               LANTUS         Diabetes mellitus   INSULIN GLARGINE\n",
            "620058     708160             INVOKANA         Diabetes mellitus      CANAGLIFLOZIN\n",
            "620143     708783  SANDOZ METFORMIN FC  Type 2 diabetes mellitus          METFORMIN\n",
            "620455  901868355      INSULIN DETEMIR  Type 2 diabetes mellitus    INSULIN DETEMIR\n"
          ]
        },
        {
          "output_type": "stream",
          "name": "stderr",
          "text": [
            "100%|██████████| 500/500 [03:48<00:00,  2.18it/s]\n",
            "<ipython-input-12-0df8b2cfb9c1>:45: SettingWithCopyWarning: \n",
            "A value is trying to be set on a copy of a slice from a DataFrame.\n",
            "Try using .loc[row_indexer,col_indexer] = value instead\n",
            "\n",
            "See the caveats in the documentation: https://pandas.pydata.org/pandas-docs/stable/user_guide/indexing.html#returning-a-view-versus-a-copy\n",
            "  df_chunk[\"Alternate drugname\"] = df_chunk[\"DRUGNAME\"].progress_apply(get_alternate_drug)\n"
          ]
        },
        {
          "output_type": "stream",
          "name": "stdout",
          "text": [
            "Chunk 8 processed and saved.\n",
            "        REPORT_ID               DRUGNAME       INDICATION_NAME_ENG           Alternate drugname\n",
            "709426  900868085              METFORMIN  Type 2 diabetes mellitus                    METFORMIN\n",
            "709586  900903699               TRAJENTA  Type 2 diabetes mellitus                  LINAGLIPTIN\n",
            "709727     681540               INVOKANA  Type 2 diabetes mellitus                CANAGLIFLOZIN\n",
            "709845  900865087  ROSIGLITAZONE MALEATE  Type 2 diabetes mellitus  GLIMEPIRIDE / ROSIGLITAZONE\n",
            "710318     687938               INVOKANA  Type 2 diabetes mellitus                CANAGLIFLOZIN\n"
          ]
        },
        {
          "output_type": "stream",
          "name": "stderr",
          "text": [
            "100%|██████████| 500/500 [04:55<00:00,  1.69it/s]\n",
            "<ipython-input-12-0df8b2cfb9c1>:45: SettingWithCopyWarning: \n",
            "A value is trying to be set on a copy of a slice from a DataFrame.\n",
            "Try using .loc[row_indexer,col_indexer] = value instead\n",
            "\n",
            "See the caveats in the documentation: https://pandas.pydata.org/pandas-docs/stable/user_guide/indexing.html#returning-a-view-versus-a-copy\n",
            "  df_chunk[\"Alternate drugname\"] = df_chunk[\"DRUGNAME\"].progress_apply(get_alternate_drug)\n"
          ]
        },
        {
          "output_type": "stream",
          "name": "stdout",
          "text": [
            "Chunk 9 processed and saved.\n",
            "        REPORT_ID             DRUGNAME INDICATION_NAME_ENG          Alternate drugname\n",
            "799500  900135635            GLYBURIDE   Diabetes mellitus                   GLYBURIDE\n",
            "799647  900113574        INSULIN HUMAN   Diabetes mellitus  INSULIN HUMAN, RDNA ORIGIN\n",
            "799667     628693            METFORMIN   Diabetes mellitus                   METFORMIN\n",
            "799964     635834  ONGLYZA FILM COATED   Diabetes mellitus                 SAXAGLIPTIN\n",
            "799984     623725               LANTUS   Diabetes mellitus            INSULIN GLARGINE\n"
          ]
        },
        {
          "output_type": "stream",
          "name": "stderr",
          "text": [
            "100%|██████████| 500/500 [06:45<00:00,  1.23it/s]\n",
            "<ipython-input-12-0df8b2cfb9c1>:45: SettingWithCopyWarning: \n",
            "A value is trying to be set on a copy of a slice from a DataFrame.\n",
            "Try using .loc[row_indexer,col_indexer] = value instead\n",
            "\n",
            "See the caveats in the documentation: https://pandas.pydata.org/pandas-docs/stable/user_guide/indexing.html#returning-a-view-versus-a-copy\n",
            "  df_chunk[\"Alternate drugname\"] = df_chunk[\"DRUGNAME\"].progress_apply(get_alternate_drug)\n"
          ]
        },
        {
          "output_type": "stream",
          "name": "stdout",
          "text": [
            "Chunk 10 processed and saved.\n",
            "        REPORT_ID                         DRUGNAME       INDICATION_NAME_ENG               Alternate drugname\n",
            "894392     663687  NOVORAPID 3ML PENFILL CARTRIDGE  Type 2 diabetes mellitus  NOVORAPID 3ML PENFILL CARTRIDGE\n",
            "894596  900490897                         INVOKANA  Type 2 diabetes mellitus                    CANAGLIFLOZIN\n",
            "894727  900545752                          JANUMET         Diabetes mellitus          METFORMIN / SITAGLIPTIN\n",
            "894793     663815                       GLICLAZIDE         Diabetes mellitus                       GLICLAZIDE\n",
            "894873  900479557                        GLYBURIDE         Diabetes mellitus                        GLYBURIDE\n"
          ]
        },
        {
          "output_type": "stream",
          "name": "stderr",
          "text": [
            "100%|██████████| 500/500 [03:24<00:00,  2.45it/s]\n",
            "<ipython-input-12-0df8b2cfb9c1>:45: SettingWithCopyWarning: \n",
            "A value is trying to be set on a copy of a slice from a DataFrame.\n",
            "Try using .loc[row_indexer,col_indexer] = value instead\n",
            "\n",
            "See the caveats in the documentation: https://pandas.pydata.org/pandas-docs/stable/user_guide/indexing.html#returning-a-view-versus-a-copy\n",
            "  df_chunk[\"Alternate drugname\"] = df_chunk[\"DRUGNAME\"].progress_apply(get_alternate_drug)\n"
          ]
        },
        {
          "output_type": "stream",
          "name": "stdout",
          "text": [
            "Chunk 11 processed and saved.\n",
            "        REPORT_ID                   DRUGNAME       INDICATION_NAME_ENG              Alternate drugname\n",
            "987196  900417764                   INVOKANA  Type 2 diabetes mellitus                   CANAGLIFLOZIN\n",
            "987254  900438808                    INSULIN  Type 2 diabetes mellitus  INSULIN DEGLUDEC / LIRAGLUTIDE\n",
            "987304  900431712                   TRAJENTA  Type 2 diabetes mellitus                     LINAGLIPTIN\n",
            "987307     661546                  METFORMIN  Type 2 diabetes mellitus                       METFORMIN\n",
            "987368  900460534  SAXAGLIPTIN HYDROCHLORIDE         Diabetes mellitus     DAPAGLIFLOZIN / SAXAGLIPTIN\n"
          ]
        },
        {
          "output_type": "stream",
          "name": "stderr",
          "text": [
            "100%|██████████| 500/500 [04:09<00:00,  2.01it/s]\n",
            "<ipython-input-12-0df8b2cfb9c1>:45: SettingWithCopyWarning: \n",
            "A value is trying to be set on a copy of a slice from a DataFrame.\n",
            "Try using .loc[row_indexer,col_indexer] = value instead\n",
            "\n",
            "See the caveats in the documentation: https://pandas.pydata.org/pandas-docs/stable/user_guide/indexing.html#returning-a-view-versus-a-copy\n",
            "  df_chunk[\"Alternate drugname\"] = df_chunk[\"DRUGNAME\"].progress_apply(get_alternate_drug)\n"
          ]
        },
        {
          "output_type": "stream",
          "name": "stdout",
          "text": [
            "Chunk 12 processed and saved.\n",
            "         REPORT_ID               DRUGNAME       INDICATION_NAME_ENG       Alternate drugname\n",
            "1073071    1073057  METFORMIN/SITAGLIPTIN  Type 2 diabetes mellitus    METFORMIN/SITAGLIPTIN\n",
            "1073365  905542156         INSULIN ASPART         Diabetes mellitus    INSULIN ASPART, HUMAN\n",
            "1073374  904713404            SEMAGLUTIDE         Diabetes mellitus              SEMAGLUTIDE\n",
            "1073686  903921327                TRESIBA         Diabetes mellitus         INSULIN DEGLUDEC\n",
            "1075070    1075859                JANUMET  Type 2 diabetes mellitus  METFORMIN / SITAGLIPTIN\n"
          ]
        },
        {
          "output_type": "stream",
          "name": "stderr",
          "text": [
            "100%|██████████| 500/500 [05:41<00:00,  1.47it/s]\n",
            "<ipython-input-12-0df8b2cfb9c1>:45: SettingWithCopyWarning: \n",
            "A value is trying to be set on a copy of a slice from a DataFrame.\n",
            "Try using .loc[row_indexer,col_indexer] = value instead\n",
            "\n",
            "See the caveats in the documentation: https://pandas.pydata.org/pandas-docs/stable/user_guide/indexing.html#returning-a-view-versus-a-copy\n",
            "  df_chunk[\"Alternate drugname\"] = df_chunk[\"DRUGNAME\"].progress_apply(get_alternate_drug)\n"
          ]
        },
        {
          "output_type": "stream",
          "name": "stdout",
          "text": [
            "Chunk 13 processed and saved.\n",
            "         REPORT_ID                                           DRUGNAME       INDICATION_NAME_ENG                                 Alternate drugname\n",
            "1160232    1048972  OZEMPIC MULTIDOSE PREFILLED PEN DISPENSES 0.25...         Diabetes mellitus  OZEMPIC MULTIDOSE PREFILLED PEN DISPENSES 0.25...\n",
            "1160667  906543824                                        SEMAGLUTIDE  Type 2 diabetes mellitus                                        SEMAGLUTIDE\n",
            "1161068    1054144   APO SITAGLIPTIN MALATE / METFORMIN HYDROCHLORIDE         Diabetes mellitus   APO SITAGLIPTIN MALATE / METFORMIN HYDROCHLORIDE\n",
            "1161233    1054341                              METFORMIN/SITAGLIPTIN  Type 2 diabetes mellitus                              METFORMIN/SITAGLIPTIN\n",
            "1161312  906591884              DAPAGLIFLOZIN PROPANEDIOL MONOHYDRATE  Type 2 diabetes mellitus                                      DAPAGLIFLOZIN\n"
          ]
        },
        {
          "output_type": "stream",
          "name": "stderr",
          "text": [
            "100%|██████████| 500/500 [03:58<00:00,  2.10it/s]\n",
            "<ipython-input-12-0df8b2cfb9c1>:45: SettingWithCopyWarning: \n",
            "A value is trying to be set on a copy of a slice from a DataFrame.\n",
            "Try using .loc[row_indexer,col_indexer] = value instead\n",
            "\n",
            "See the caveats in the documentation: https://pandas.pydata.org/pandas-docs/stable/user_guide/indexing.html#returning-a-view-versus-a-copy\n",
            "  df_chunk[\"Alternate drugname\"] = df_chunk[\"DRUGNAME\"].progress_apply(get_alternate_drug)\n"
          ]
        },
        {
          "output_type": "stream",
          "name": "stdout",
          "text": [
            "Chunk 14 processed and saved.\n",
            "         REPORT_ID                                           DRUGNAME       INDICATION_NAME_ENG                                 Alternate drugname\n",
            "1248167  905744283                                        SEMAGLUTIDE         Diabetes mellitus                                        SEMAGLUTIDE\n",
            "1248428    1012899  OZEMPIC MULTIDOSE PREFILLED PEN DISPENSES 0.25...         Diabetes mellitus  OZEMPIC MULTIDOSE PREFILLED PEN DISPENSES 0.25...\n",
            "1248500    1013640                                          JARDIANCE  Type 2 diabetes mellitus                          DAPAGLIFLOZIN / METFORMIN\n",
            "1248860  905758859                                        DULAGLUTIDE         Diabetes mellitus                                        DULAGLUTIDE\n",
            "1249673  903910372                                      CANAGLIFLOZIN  Type 2 diabetes mellitus                                      CANAGLIFLOZIN\n"
          ]
        },
        {
          "output_type": "stream",
          "name": "stderr",
          "text": [
            "100%|██████████| 500/500 [05:15<00:00,  1.58it/s]\n",
            "<ipython-input-12-0df8b2cfb9c1>:45: SettingWithCopyWarning: \n",
            "A value is trying to be set on a copy of a slice from a DataFrame.\n",
            "Try using .loc[row_indexer,col_indexer] = value instead\n",
            "\n",
            "See the caveats in the documentation: https://pandas.pydata.org/pandas-docs/stable/user_guide/indexing.html#returning-a-view-versus-a-copy\n",
            "  df_chunk[\"Alternate drugname\"] = df_chunk[\"DRUGNAME\"].progress_apply(get_alternate_drug)\n"
          ]
        },
        {
          "output_type": "stream",
          "name": "stdout",
          "text": [
            "Chunk 15 processed and saved.\n",
            "         REPORT_ID                                           DRUGNAME       INDICATION_NAME_ENG                                 Alternate drugname\n",
            "1335338  904111001                                        LIRAGLUTIDE         Diabetes mellitus                     INSULIN DEGLUDEC / LIRAGLUTIDE\n",
            "1335455  903588771                                            INSULIN         Diabetes mellitus                     INSULIN DEGLUDEC / LIRAGLUTIDE\n",
            "1335567     949495                          TRESIBA PENFILL CARTRIDGE  Type 1 diabetes mellitus                          TRESIBA PENFILL CARTRIDGE\n",
            "1335835  904087469                                     INSULIN ASPART  Type 1 diabetes mellitus                              INSULIN ASPART, HUMAN\n",
            "1336051     935523  METFORMIN HYDROCHLORIDE/SAXAGLIPTIN HYDROCHLORIDE         Diabetes mellitus  METFORMIN HYDROCHLORIDE/SAXAGLIPTIN HYDROCHLORIDE\n"
          ]
        },
        {
          "output_type": "stream",
          "name": "stderr",
          "text": [
            "100%|██████████| 500/500 [03:39<00:00,  2.27it/s]\n",
            "<ipython-input-12-0df8b2cfb9c1>:45: SettingWithCopyWarning: \n",
            "A value is trying to be set on a copy of a slice from a DataFrame.\n",
            "Try using .loc[row_indexer,col_indexer] = value instead\n",
            "\n",
            "See the caveats in the documentation: https://pandas.pydata.org/pandas-docs/stable/user_guide/indexing.html#returning-a-view-versus-a-copy\n",
            "  df_chunk[\"Alternate drugname\"] = df_chunk[\"DRUGNAME\"].progress_apply(get_alternate_drug)\n"
          ]
        },
        {
          "output_type": "stream",
          "name": "stdout",
          "text": [
            "Chunk 16 processed and saved.\n",
            "         REPORT_ID          DRUGNAME       INDICATION_NAME_ENG         Alternate drugname\n",
            "1423580     909059         JARDIANCE  Type 2 diabetes mellitus  DAPAGLIFLOZIN / METFORMIN\n",
            "1423626     612355  INSULIN GLARGINE         Diabetes mellitus           INSULIN GLARGINE\n",
            "1423872  903215888         METFORMIN         Diabetes mellitus                  METFORMIN\n",
            "1424028  903280935         GLYBURIDE         Diabetes mellitus                  GLYBURIDE\n",
            "1424299     913743           JANUVIA         Diabetes mellitus                SITAGLIPTIN\n"
          ]
        },
        {
          "output_type": "stream",
          "name": "stderr",
          "text": [
            "100%|██████████| 500/500 [04:37<00:00,  1.80it/s]\n",
            "<ipython-input-12-0df8b2cfb9c1>:45: SettingWithCopyWarning: \n",
            "A value is trying to be set on a copy of a slice from a DataFrame.\n",
            "Try using .loc[row_indexer,col_indexer] = value instead\n",
            "\n",
            "See the caveats in the documentation: https://pandas.pydata.org/pandas-docs/stable/user_guide/indexing.html#returning-a-view-versus-a-copy\n",
            "  df_chunk[\"Alternate drugname\"] = df_chunk[\"DRUGNAME\"].progress_apply(get_alternate_drug)\n"
          ]
        },
        {
          "output_type": "stream",
          "name": "stdout",
          "text": [
            "Chunk 17 processed and saved.\n",
            "         REPORT_ID                                           DRUGNAME INDICATION_NAME_ENG                                 Alternate drugname\n",
            "1514428  902760241                                     INSULIN LISPRO   Diabetes mellitus                                     INSULIN LISPRO\n",
            "1514692  901775397  METFORMIN HYDROCHLORIDE/SITAGLIPTIN PHOSPHATE ...   Diabetes mellitus  METFORMIN HYDROCHLORIDE/SITAGLIPTIN PHOSPHATE ...\n",
            "1515505  902609446                                            HUMALOG   Diabetes mellitus                                     INSULIN LISPRO\n",
            "1515506  902609446                                            HUMALOG   Diabetes mellitus                                     INSULIN LISPRO\n",
            "1515507  902609446                                            HUMALOG   Diabetes mellitus                                     INSULIN LISPRO\n"
          ]
        },
        {
          "output_type": "stream",
          "name": "stderr",
          "text": [
            "100%|██████████| 500/500 [02:01<00:00,  4.10it/s]\n",
            "<ipython-input-12-0df8b2cfb9c1>:45: SettingWithCopyWarning: \n",
            "A value is trying to be set on a copy of a slice from a DataFrame.\n",
            "Try using .loc[row_indexer,col_indexer] = value instead\n",
            "\n",
            "See the caveats in the documentation: https://pandas.pydata.org/pandas-docs/stable/user_guide/indexing.html#returning-a-view-versus-a-copy\n",
            "  df_chunk[\"Alternate drugname\"] = df_chunk[\"DRUGNAME\"].progress_apply(get_alternate_drug)\n"
          ]
        },
        {
          "output_type": "stream",
          "name": "stdout",
          "text": [
            "Chunk 18 processed and saved.\n",
            "         REPORT_ID       DRUGNAME       INDICATION_NAME_ENG         Alternate drugname\n",
            "1599674     705314      NOVORAPID         Diabetes mellitus      INSULIN ASPART, HUMAN\n",
            "1599956     703371      JARDIANCE         Diabetes mellitus  DAPAGLIFLOZIN / METFORMIN\n",
            "1600069  901600218      EXENATIDE  Type 2 diabetes mellitus                  EXENATIDE\n",
            "1600348  901690677      METFORMIN         Diabetes mellitus                  METFORMIN\n",
            "1600558  901785817  EMPAGLIFLOZIN  Type 2 diabetes mellitus  EMPAGLIFLOZIN / METFORMIN\n"
          ]
        },
        {
          "output_type": "stream",
          "name": "stderr",
          "text": [
            "100%|██████████| 500/500 [04:28<00:00,  1.86it/s]\n",
            "<ipython-input-12-0df8b2cfb9c1>:45: SettingWithCopyWarning: \n",
            "A value is trying to be set on a copy of a slice from a DataFrame.\n",
            "Try using .loc[row_indexer,col_indexer] = value instead\n",
            "\n",
            "See the caveats in the documentation: https://pandas.pydata.org/pandas-docs/stable/user_guide/indexing.html#returning-a-view-versus-a-copy\n",
            "  df_chunk[\"Alternate drugname\"] = df_chunk[\"DRUGNAME\"].progress_apply(get_alternate_drug)\n"
          ]
        },
        {
          "output_type": "stream",
          "name": "stdout",
          "text": [
            "Chunk 19 processed and saved.\n",
            "         REPORT_ID        DRUGNAME       INDICATION_NAME_ENG Alternate drugname\n",
            "1689819  900891473   CANAGLIFLOZIN  Type 2 diabetes mellitus      CANAGLIFLOZIN\n",
            "1689854  900898470       GLYBURIDE  Type 2 diabetes mellitus          GLYBURIDE\n",
            "1689963  900872789         FORXIGA         Diabetes mellitus      DAPAGLIFLOZIN\n",
            "1689980  900943839       METFORMIN  Type 2 diabetes mellitus          METFORMIN\n",
            "1690010  900869012  NOVOLIN GE NPH  Type 2 diabetes mellitus     NOVOLIN GE NPH\n"
          ]
        },
        {
          "output_type": "stream",
          "name": "stderr",
          "text": [
            "100%|██████████| 500/500 [02:36<00:00,  3.20it/s]\n",
            "<ipython-input-12-0df8b2cfb9c1>:45: SettingWithCopyWarning: \n",
            "A value is trying to be set on a copy of a slice from a DataFrame.\n",
            "Try using .loc[row_indexer,col_indexer] = value instead\n",
            "\n",
            "See the caveats in the documentation: https://pandas.pydata.org/pandas-docs/stable/user_guide/indexing.html#returning-a-view-versus-a-copy\n",
            "  df_chunk[\"Alternate drugname\"] = df_chunk[\"DRUGNAME\"].progress_apply(get_alternate_drug)\n"
          ]
        },
        {
          "output_type": "stream",
          "name": "stdout",
          "text": [
            "Chunk 20 processed and saved.\n",
            "         REPORT_ID                                          DRUGNAME INDICATION_NAME_ENG                                Alternate drugname\n",
            "1772900  906947573                                  INSULIN DEGLUDEC   Diabetes mellitus                    INSULIN DEGLUDEC / LIRAGLUTIDE\n",
            "1773146  905260882                                         METFORMIN   Diabetes mellitus                                         METFORMIN\n",
            "1773418  902600172                                       LIRAGLUTIDE   Diabetes mellitus                    INSULIN DEGLUDEC / LIRAGLUTIDE\n",
            "1773557    1076639  APO SITAGLIPTIN MALATE / METFORMIN HYDROCHLORIDE   Diabetes mellitus  APO SITAGLIPTIN MALATE / METFORMIN HYDROCHLORIDE\n",
            "1773854  906555241                                       SEMAGLUTIDE   Diabetes mellitus                                       SEMAGLUTIDE\n"
          ]
        },
        {
          "output_type": "stream",
          "name": "stderr",
          "text": [
            "100%|██████████| 500/500 [05:36<00:00,  1.48it/s]\n",
            "<ipython-input-12-0df8b2cfb9c1>:45: SettingWithCopyWarning: \n",
            "A value is trying to be set on a copy of a slice from a DataFrame.\n",
            "Try using .loc[row_indexer,col_indexer] = value instead\n",
            "\n",
            "See the caveats in the documentation: https://pandas.pydata.org/pandas-docs/stable/user_guide/indexing.html#returning-a-view-versus-a-copy\n",
            "  df_chunk[\"Alternate drugname\"] = df_chunk[\"DRUGNAME\"].progress_apply(get_alternate_drug)\n"
          ]
        },
        {
          "output_type": "stream",
          "name": "stdout",
          "text": [
            "Chunk 21 processed and saved.\n",
            "         REPORT_ID                                           DRUGNAME       INDICATION_NAME_ENG                                 Alternate drugname\n",
            "1850596     963293                                           INVOKANA  Type 2 diabetes mellitus                                      CANAGLIFLOZIN\n",
            "1850961     969121                                      APO METFORMIN         Diabetes mellitus                                          METFORMIN\n",
            "1851205     972960                                          NOVORAPID         Diabetes mellitus                              INSULIN ASPART, HUMAN\n",
            "1852003  905019351                                            HUMALOG         Diabetes mellitus                                     INSULIN LISPRO\n",
            "1852028     980111  OZEMPIC MULTIDOSE PREFILLED PEN DISPENSES 0.25...  Type 2 diabetes mellitus  OZEMPIC MULTIDOSE PREFILLED PEN DISPENSES 0.25...\n"
          ]
        },
        {
          "output_type": "stream",
          "name": "stderr",
          "text": [
            "100%|██████████| 500/500 [02:21<00:00,  3.54it/s]\n",
            "<ipython-input-12-0df8b2cfb9c1>:45: SettingWithCopyWarning: \n",
            "A value is trying to be set on a copy of a slice from a DataFrame.\n",
            "Try using .loc[row_indexer,col_indexer] = value instead\n",
            "\n",
            "See the caveats in the documentation: https://pandas.pydata.org/pandas-docs/stable/user_guide/indexing.html#returning-a-view-versus-a-copy\n",
            "  df_chunk[\"Alternate drugname\"] = df_chunk[\"DRUGNAME\"].progress_apply(get_alternate_drug)\n"
          ]
        },
        {
          "output_type": "stream",
          "name": "stdout",
          "text": [
            "Chunk 22 processed and saved.\n",
            "         REPORT_ID                                           DRUGNAME       INDICATION_NAME_ENG                                 Alternate drugname\n",
            "1941166  902734658                                            INSULIN         Diabetes mellitus                     INSULIN DEGLUDEC / LIRAGLUTIDE\n",
            "1941205  903820570                                            FORXIGA  Type 2 diabetes mellitus                                      DAPAGLIFLOZIN\n",
            "1941352     935234  OZEMPIC MULTIDOSE PREFILLED PEN DISPENSES 0.25...         Diabetes mellitus  OZEMPIC MULTIDOSE PREFILLED PEN DISPENSES 0.25...\n",
            "1941529  903888852                                           ATENOLOL         Diabetes mellitus                                         S-ATENOLOL\n",
            "1942044     944952                                          JARDIANCE  Type 2 diabetes mellitus                          DAPAGLIFLOZIN / METFORMIN\n"
          ]
        },
        {
          "output_type": "stream",
          "name": "stderr",
          "text": [
            "100%|██████████| 500/500 [03:00<00:00,  2.77it/s]\n",
            "<ipython-input-12-0df8b2cfb9c1>:45: SettingWithCopyWarning: \n",
            "A value is trying to be set on a copy of a slice from a DataFrame.\n",
            "Try using .loc[row_indexer,col_indexer] = value instead\n",
            "\n",
            "See the caveats in the documentation: https://pandas.pydata.org/pandas-docs/stable/user_guide/indexing.html#returning-a-view-versus-a-copy\n",
            "  df_chunk[\"Alternate drugname\"] = df_chunk[\"DRUGNAME\"].progress_apply(get_alternate_drug)\n"
          ]
        },
        {
          "output_type": "stream",
          "name": "stdout",
          "text": [
            "Chunk 23 processed and saved.\n",
            "         REPORT_ID               DRUGNAME       INDICATION_NAME_ENG           Alternate drugname\n",
            "2034331     936211              GLYBURIDE  Type 2 diabetes mellitus                    GLYBURIDE\n",
            "2034431  903779695  ROSIGLITAZONE MALEATE         Diabetes mellitus  GLIMEPIRIDE / ROSIGLITAZONE\n",
            "2034497     936177                OZEMPIC  Type 2 diabetes mellitus                  SEMAGLUTIDE\n",
            "2034661  903621160                 LANTUS         Diabetes mellitus             INSULIN GLARGINE\n",
            "2034722  903820718                FORXIGA  Type 2 diabetes mellitus                DAPAGLIFLOZIN\n"
          ]
        },
        {
          "output_type": "stream",
          "name": "stderr",
          "text": [
            "100%|██████████| 500/500 [03:50<00:00,  2.17it/s]\n",
            "<ipython-input-12-0df8b2cfb9c1>:45: SettingWithCopyWarning: \n",
            "A value is trying to be set on a copy of a slice from a DataFrame.\n",
            "Try using .loc[row_indexer,col_indexer] = value instead\n",
            "\n",
            "See the caveats in the documentation: https://pandas.pydata.org/pandas-docs/stable/user_guide/indexing.html#returning-a-view-versus-a-copy\n",
            "  df_chunk[\"Alternate drugname\"] = df_chunk[\"DRUGNAME\"].progress_apply(get_alternate_drug)\n"
          ]
        },
        {
          "output_type": "stream",
          "name": "stdout",
          "text": [
            "Chunk 24 processed and saved.\n",
            "         REPORT_ID                                       DRUGNAME       INDICATION_NAME_ENG                             Alternate drugname\n",
            "2118625  902287640                                      METFORMIN         Diabetes mellitus                                      METFORMIN\n",
            "2119429  902603157  METFORMIN HYDROCHLORIDE/SITAGLIPTIN PHOSPHATE         Diabetes mellitus  METFORMIN HYDROCHLORIDE/SITAGLIPTIN PHOSPHATE\n",
            "2119782  902604201                                      METFORMIN  Type 2 diabetes mellitus                                      METFORMIN\n",
            "2119864  900153621                      SAXAGLIPTIN HYDROCHLORIDE         Diabetes mellitus                    DAPAGLIFLOZIN / SAXAGLIPTIN\n",
            "2120296  902676479                                      ZOPICLONE         Diabetes mellitus                                    ESZOPICLONE\n"
          ]
        },
        {
          "output_type": "stream",
          "name": "stderr",
          "text": [
            "100%|██████████| 500/500 [02:43<00:00,  3.06it/s]\n",
            "<ipython-input-12-0df8b2cfb9c1>:45: SettingWithCopyWarning: \n",
            "A value is trying to be set on a copy of a slice from a DataFrame.\n",
            "Try using .loc[row_indexer,col_indexer] = value instead\n",
            "\n",
            "See the caveats in the documentation: https://pandas.pydata.org/pandas-docs/stable/user_guide/indexing.html#returning-a-view-versus-a-copy\n",
            "  df_chunk[\"Alternate drugname\"] = df_chunk[\"DRUGNAME\"].progress_apply(get_alternate_drug)\n"
          ]
        },
        {
          "output_type": "stream",
          "name": "stdout",
          "text": [
            "Chunk 25 processed and saved.\n",
            "         REPORT_ID                                  DRUGNAME       INDICATION_NAME_ENG                        Alternate drugname\n",
            "2213403  902607773                                 NOVORAPID         Diabetes mellitus                     INSULIN ASPART, HUMAN\n",
            "2213606     727029                              ATACAND PLUS  Type 2 diabetes mellitus         CANDESARTAN / HYDROCHLOROTHIAZIDE\n",
            "2214209  902750722                                    LANTUS         Diabetes mellitus                          INSULIN GLARGINE\n",
            "2214235  902755450                                 METFORMIN  Type 2 diabetes mellitus                                 METFORMIN\n",
            "2214237  902752753  INSULIN GLULISINE RECOMBINANT DNA ORIGIN         Diabetes mellitus  INSULIN GLULISINE RECOMBINANT DNA ORIGIN\n"
          ]
        },
        {
          "output_type": "stream",
          "name": "stderr",
          "text": [
            "100%|██████████| 500/500 [04:31<00:00,  1.84it/s]\n",
            "<ipython-input-12-0df8b2cfb9c1>:45: SettingWithCopyWarning: \n",
            "A value is trying to be set on a copy of a slice from a DataFrame.\n",
            "Try using .loc[row_indexer,col_indexer] = value instead\n",
            "\n",
            "See the caveats in the documentation: https://pandas.pydata.org/pandas-docs/stable/user_guide/indexing.html#returning-a-view-versus-a-copy\n",
            "  df_chunk[\"Alternate drugname\"] = df_chunk[\"DRUGNAME\"].progress_apply(get_alternate_drug)\n"
          ]
        },
        {
          "output_type": "stream",
          "name": "stdout",
          "text": [
            "Chunk 26 processed and saved.\n",
            "         REPORT_ID                   DRUGNAME       INDICATION_NAME_ENG         Alternate drugname\n",
            "2299863     698017                   INVOKANA  Type 2 diabetes mellitus              CANAGLIFLOZIN\n",
            "2299981     703476                    LEVEMIR  Type 2 diabetes mellitus            INSULIN DETEMIR\n",
            "2300082  901511894                    LEVEMIR         Diabetes mellitus            INSULIN DETEMIR\n",
            "2300195  901554480                    HUMALOG         Diabetes mellitus             INSULIN LISPRO\n",
            "2300386  901528055  APO METFORMIN   TAB 500MG  Type 2 diabetes mellitus  APO METFORMIN   TAB 500MG\n"
          ]
        },
        {
          "output_type": "stream",
          "name": "stderr",
          "text": [
            "100%|██████████| 500/500 [03:04<00:00,  2.71it/s]\n",
            "<ipython-input-12-0df8b2cfb9c1>:45: SettingWithCopyWarning: \n",
            "A value is trying to be set on a copy of a slice from a DataFrame.\n",
            "Try using .loc[row_indexer,col_indexer] = value instead\n",
            "\n",
            "See the caveats in the documentation: https://pandas.pydata.org/pandas-docs/stable/user_guide/indexing.html#returning-a-view-versus-a-copy\n",
            "  df_chunk[\"Alternate drugname\"] = df_chunk[\"DRUGNAME\"].progress_apply(get_alternate_drug)\n"
          ]
        },
        {
          "output_type": "stream",
          "name": "stdout",
          "text": [
            "Chunk 27 processed and saved.\n",
            "         REPORT_ID   DRUGNAME       INDICATION_NAME_ENG       Alternate drugname\n",
            "2389905     682113   HIZENTRA         Diabetes mellitus  IMMUNOGLOBULIN G, HUMAN\n",
            "2390008  900893484   SOLOSTAR  Type 1 diabetes mellitus           INSULIN LISPRO\n",
            "2390331  901009438  DIAMICRON         Diabetes mellitus               GLICLAZIDE\n",
            "2390336  900903594    JANUMET  Type 2 diabetes mellitus  METFORMIN / SITAGLIPTIN\n",
            "2390477  901011930  METFORMIN         Diabetes mellitus                METFORMIN\n"
          ]
        },
        {
          "output_type": "stream",
          "name": "stderr",
          "text": [
            "100%|██████████| 500/500 [04:10<00:00,  1.99it/s]\n",
            "<ipython-input-12-0df8b2cfb9c1>:45: SettingWithCopyWarning: \n",
            "A value is trying to be set on a copy of a slice from a DataFrame.\n",
            "Try using .loc[row_indexer,col_indexer] = value instead\n",
            "\n",
            "See the caveats in the documentation: https://pandas.pydata.org/pandas-docs/stable/user_guide/indexing.html#returning-a-view-versus-a-copy\n",
            "  df_chunk[\"Alternate drugname\"] = df_chunk[\"DRUGNAME\"].progress_apply(get_alternate_drug)\n"
          ]
        },
        {
          "output_type": "stream",
          "name": "stdout",
          "text": [
            "Chunk 28 processed and saved.\n",
            "         REPORT_ID                 DRUGNAME       INDICATION_NAME_ENG      Alternate drugname\n",
            "2479410  900002029  METFORMIN HYDROCHLORIDE         Diabetes mellitus  ALOGLIPTIN / METFORMIN\n",
            "2479598     590500                   LANTUS  Type 1 diabetes mellitus        INSULIN GLARGINE\n",
            "2479682     592898                 TRAJENTA         Diabetes mellitus             LINAGLIPTIN\n",
            "2479754     587583                METFORMIN         Diabetes mellitus               METFORMIN\n",
            "2479794  900088160        INSULIN NPH HUMAN  Type 1 diabetes mellitus       INSULIN NPH HUMAN\n"
          ]
        },
        {
          "output_type": "stream",
          "name": "stderr",
          "text": [
            "100%|██████████| 500/500 [02:56<00:00,  2.83it/s]\n",
            "<ipython-input-12-0df8b2cfb9c1>:45: SettingWithCopyWarning: \n",
            "A value is trying to be set on a copy of a slice from a DataFrame.\n",
            "Try using .loc[row_indexer,col_indexer] = value instead\n",
            "\n",
            "See the caveats in the documentation: https://pandas.pydata.org/pandas-docs/stable/user_guide/indexing.html#returning-a-view-versus-a-copy\n",
            "  df_chunk[\"Alternate drugname\"] = df_chunk[\"DRUGNAME\"].progress_apply(get_alternate_drug)\n"
          ]
        },
        {
          "output_type": "stream",
          "name": "stdout",
          "text": [
            "Chunk 29 processed and saved.\n",
            "         REPORT_ID                                           DRUGNAME       INDICATION_NAME_ENG                                 Alternate drugname\n",
            "2571860     472372                                             LANTUS  Type 2 diabetes mellitus                                   INSULIN GLARGINE\n",
            "2571891     495555                                            HUMULIN         Diabetes mellitus                                   INSULIN ISOPHANE\n",
            "2571979     485669                                             APIDRA         Diabetes mellitus                           INSULIN GLULISINE, HUMAN\n",
            "2572116     540512                                          METFORMIN  Type 2 diabetes mellitus                                          METFORMIN\n",
            "2572233     534531  VICTOZA MULTIDOSE PEN INJECTOR. 30DOSES0.6MG 1...  Type 2 diabetes mellitus  VICTOZA MULTIDOSE PEN INJECTOR. 30DOSES0.6MG 1...\n"
          ]
        },
        {
          "output_type": "stream",
          "name": "stderr",
          "text": [
            "100%|██████████| 500/500 [02:11<00:00,  3.81it/s]\n",
            "<ipython-input-12-0df8b2cfb9c1>:45: SettingWithCopyWarning: \n",
            "A value is trying to be set on a copy of a slice from a DataFrame.\n",
            "Try using .loc[row_indexer,col_indexer] = value instead\n",
            "\n",
            "See the caveats in the documentation: https://pandas.pydata.org/pandas-docs/stable/user_guide/indexing.html#returning-a-view-versus-a-copy\n",
            "  df_chunk[\"Alternate drugname\"] = df_chunk[\"DRUGNAME\"].progress_apply(get_alternate_drug)\n"
          ]
        },
        {
          "output_type": "stream",
          "name": "stdout",
          "text": [
            "Chunk 30 processed and saved.\n",
            "         REPORT_ID                                           DRUGNAME       INDICATION_NAME_ENG                                 Alternate drugname\n",
            "2666292  900053212                                            HUMALOG         Diabetes mellitus                                     INSULIN LISPRO\n",
            "2666404     590981  VICTOZA 1.2MG PRE FILLED PEN INJECTOR. 15 DOSE...  Type 2 diabetes mellitus  VICTOZA 1.2MG PRE FILLED PEN INJECTOR. 15 DOSE...\n",
            "2666524     610992                                            AVANDIA         Diabetes mellitus                                      ROSIGLITAZONE\n",
            "2666611     581020                                          METFORMIN         Diabetes mellitus                                          METFORMIN\n",
            "2666612     611604                                            AVANDIA         Diabetes mellitus                                      ROSIGLITAZONE\n"
          ]
        },
        {
          "output_type": "stream",
          "name": "stderr",
          "text": [
            "100%|██████████| 500/500 [01:54<00:00,  4.38it/s]\n",
            "<ipython-input-12-0df8b2cfb9c1>:45: SettingWithCopyWarning: \n",
            "A value is trying to be set on a copy of a slice from a DataFrame.\n",
            "Try using .loc[row_indexer,col_indexer] = value instead\n",
            "\n",
            "See the caveats in the documentation: https://pandas.pydata.org/pandas-docs/stable/user_guide/indexing.html#returning-a-view-versus-a-copy\n",
            "  df_chunk[\"Alternate drugname\"] = df_chunk[\"DRUGNAME\"].progress_apply(get_alternate_drug)\n"
          ]
        },
        {
          "output_type": "stream",
          "name": "stdout",
          "text": [
            "Chunk 31 processed and saved.\n",
            "         REPORT_ID   DRUGNAME       INDICATION_NAME_ENG         Alternate drugname\n",
            "2746364  900854118  METFORMIN         Diabetes mellitus                  METFORMIN\n",
            "2746489  906413771    TRESIBA  Type 2 diabetes mellitus           INSULIN DEGLUDEC\n",
            "2746864  906465380  JARDIANCE  Type 2 diabetes mellitus  DAPAGLIFLOZIN / METFORMIN\n",
            "2747054  902867333     TOUJEO         Diabetes mellitus           INSULIN GLARGINE\n",
            "2747084  906357241  JARDIANCE         Diabetes mellitus  DAPAGLIFLOZIN / METFORMIN\n"
          ]
        },
        {
          "output_type": "stream",
          "name": "stderr",
          "text": [
            "100%|██████████| 500/500 [02:29<00:00,  3.34it/s]\n",
            "<ipython-input-12-0df8b2cfb9c1>:45: SettingWithCopyWarning: \n",
            "A value is trying to be set on a copy of a slice from a DataFrame.\n",
            "Try using .loc[row_indexer,col_indexer] = value instead\n",
            "\n",
            "See the caveats in the documentation: https://pandas.pydata.org/pandas-docs/stable/user_guide/indexing.html#returning-a-view-versus-a-copy\n",
            "  df_chunk[\"Alternate drugname\"] = df_chunk[\"DRUGNAME\"].progress_apply(get_alternate_drug)\n"
          ]
        },
        {
          "output_type": "stream",
          "name": "stdout",
          "text": [
            "Chunk 32 processed and saved.\n",
            "         REPORT_ID     DRUGNAME       INDICATION_NAME_ENG           Alternate drugname\n",
            "2828178     919930    METFORMIN         Diabetes mellitus                    METFORMIN\n",
            "2828192     939149    JARDIANCE  Type 2 diabetes mellitus    DAPAGLIFLOZIN / METFORMIN\n",
            "2828239  903801416  SAXAGLIPTIN  Type 2 diabetes mellitus  DAPAGLIFLOZIN / SAXAGLIPTIN\n",
            "2828255     938462    JARDIANCE         Diabetes mellitus    DAPAGLIFLOZIN / METFORMIN\n",
            "2828676     943239      OZEMPIC  Type 2 diabetes mellitus                  SEMAGLUTIDE\n"
          ]
        },
        {
          "output_type": "stream",
          "name": "stderr",
          "text": [
            "100%|██████████| 367/367 [02:26<00:00,  2.51it/s]"
          ]
        },
        {
          "output_type": "stream",
          "name": "stdout",
          "text": [
            "Chunk 33 processed and saved.\n",
            "         REPORT_ID         DRUGNAME       INDICATION_NAME_ENG     Alternate drugname\n",
            "2916530     736739        NOVORAPID         Diabetes mellitus  INSULIN ASPART, HUMAN\n",
            "2916611  903041202        METFORMIN  Type 2 diabetes mellitus              METFORMIN\n",
            "2916934     908171  LEVEMIR PENFILL  Type 2 diabetes mellitus        INSULIN DETEMIR\n",
            "2917008  903080950          HUMALOG         Diabetes mellitus         INSULIN LISPRO\n",
            "2917017     908829          FORXIGA  Type 2 diabetes mellitus          DAPAGLIFLOZIN\n"
          ]
        },
        {
          "output_type": "stream",
          "name": "stderr",
          "text": [
            "\n",
            "<ipython-input-12-0df8b2cfb9c1>:45: SettingWithCopyWarning: \n",
            "A value is trying to be set on a copy of a slice from a DataFrame.\n",
            "Try using .loc[row_indexer,col_indexer] = value instead\n",
            "\n",
            "See the caveats in the documentation: https://pandas.pydata.org/pandas-docs/stable/user_guide/indexing.html#returning-a-view-versus-a-copy\n",
            "  df_chunk[\"Alternate drugname\"] = df_chunk[\"DRUGNAME\"].progress_apply(get_alternate_drug)\n"
          ]
        }
      ],
      "source": [
        "ctg_studies_path = '/content/drive/My Drive/Data_MedEffect/ctg-studies.csv'\n",
        "ctg_studies = pd.read_csv(ctg_studies_path)\n",
        "ctg_studies[\"Conditions\"] = ctg_studies[\"Conditions\"].str.upper()\n",
        "ctg_studies[\"Interventions\"] = ctg_studies[\"Interventions\"].str.upper()\n",
        "\n",
        "drug_equivalencies_path = '/content/drive/My Drive/Data_MedEffect/drug_equivalencies.csv'\n",
        "drug_equivalencies = pd.read_csv(drug_equivalencies_path, skiprows=1, encoding=\"latin1\")\n",
        "drug_equivalencies.drop(columns=[\"RXCUI\", \"RXAUI\", \"SAB\", \"TTY\", \"CODE\"], inplace =True)\n",
        "drug_equivalencies[\"DRUGNAME\"] = drug_equivalencies[\"DRUGNAME\"].str.upper()\n",
        "drug_equivalencies[\"STR\"] = drug_equivalencies[\"STR\"].str.upper()\n",
        "\n",
        "# Ensure all values in are strings and handle missing values\n",
        "drug_equivalencies['DRUGNAME'] = drug_equivalencies['DRUGNAME'].fillna('').astype(str)\n",
        "drug_equivalencies['STR'] = drug_equivalencies['STR'].fillna('').astype(str)\n",
        "\n",
        "# choose which disease to replace drugnames\n",
        "curr_df = df_diabetes\n",
        "curr_df[\"DRUGNAME\"] = curr_df[\"DRUGNAME\"].fillna('').astype(str)\n",
        "curr_df[\"DRUGNAME\"] = curr_df[\"DRUGNAME\"].str.upper()\n",
        "def clean_drug_name(drug):\n",
        "  drug = drug.replace(\"(\", \"\").replace(\")\", \"\").replace(\",\", \"\").strip()\n",
        "  drug = drug.replace(\"-\", \" \").replace(\"&\", \"\").replace(\"*\", \" \").strip()\n",
        "  drug = drug.replace(\"[\", \"\").replace(\"]\", \"\").replace(\",\", \" \").strip()\n",
        "  drug = re.sub(r'\\/.*?\\/', '', drug)\n",
        "  return drug\n",
        "\n",
        "drug_alternates_cache = {}\n",
        "def get_alternate_drug(drug):\n",
        "  if drug in drug_alternates_cache:\n",
        "        return drug_alternates_cache[drug]\n",
        "  for _, row in drug_equivalencies.iterrows():\n",
        "      if re.search(r'\\b%s\\b' % drug, row['DRUGNAME']) is not None:\n",
        "          drug_alternates_cache[drug] = row['STR']\n",
        "          return row['STR']\n",
        "  drug_alternates_cache[drug] = drug\n",
        "  return drug\n",
        "\n",
        "tqdm.pandas()\n",
        "\n",
        "save_directory = '/content/drive/My Drive/CSV/Diabetes'\n",
        "\n",
        "print(curr_df)\n",
        "curr_df['DRUGNAME'] = curr_df['DRUGNAME'].apply(clean_drug_name)\n",
        "\n",
        "# function to apply as chunks\n",
        "def process_and_save_chunk(df_chunk, chunk_index):\n",
        "    # Apply the get_alternate_drug function\n",
        "    df_chunk[\"Alternate drugname\"] = df_chunk[\"DRUGNAME\"].progress_apply(get_alternate_drug)\n",
        "    # Create the file path for saving the CSV\n",
        "    csv_file_path = os.path.join(save_directory, f\"diabetes_altdrug_chunk_{chunk_index}.csv\")\n",
        "    # Save the DataFrame chunk to a CSV file\n",
        "    df_chunk.to_csv(csv_file_path, index=False)\n",
        "    # Optionally print the chunk\n",
        "    print(f\"Chunk {chunk_index} processed and saved.\")\n",
        "    print(df_chunk.head())  # Print only the first few rows to avoid clutter\n",
        "\n",
        "# Define the chunk size\n",
        "chunk_size = 500\n",
        "starting_chunk_index = 0\n",
        "# Split the DataFrame into chunks and process each chunk\n",
        "for chunk_index, start_row in enumerate(range(0, curr_df.shape[0], chunk_size), start=starting_chunk_index):\n",
        "    # Get the current chunk\n",
        "    df_chunk = curr_df.iloc[start_row:start_row + chunk_size]\n",
        "    # Process and save the current chunk\n",
        "    process_and_save_chunk(df_chunk, chunk_index)\n",
        "\n",
        "# df_hypertension[\"Alternate drugname\"] = df_hypertension[\"DRUGNAME\"].progress_apply(get_alternate_drug)\n",
        "# csv_file_path = os.path.join(save_directory, \"hypertension_altdrug.csv\")\n",
        "# df_hypertension.to_csv(csv_file_path, index=False)\n",
        "# for key, df in df_heart_diseases.items():\n",
        "\n",
        "#   df['DRUGNAME'] = df['DRUGNAME'].apply(clean_drug_name)\n",
        "#   df[\"Alternate drugname\"] = df[\"DRUGNAME\"].progress_apply(get_alternate_drug)\n",
        "#   csv_file_path = os.path.join(save_directory, f\"{key}_altdrug.csv\")\n",
        "#   df.to_csv(csv_file_path, index=False)\n",
        "#   print(df)\n"
      ]
    },
    {
      "cell_type": "code",
      "source": [
        "# concatenate all chunks together into a single csv file\n",
        "save_directory = '/content/drive/My Drive/CSV/Parkinsonism'\n",
        "output_file = os.path.join(save_directory, 'parkinsonism_altdrug.csv')\n",
        "\n",
        "# List to store DataFrames\n",
        "df_list = []\n",
        "\n",
        "# Iterate over all files in the save directory\n",
        "for filename in sorted(os.listdir(save_directory)):\n",
        "    if filename.startswith('parkinsonism_altdrug_chunk_') and filename.endswith('.csv'):\n",
        "        file_path = os.path.join(save_directory, filename)\n",
        "        # Read the CSV file into a DataFrame\n",
        "        df_chunk = pd.read_csv(file_path)\n",
        "        # Append the DataFrame to the list\n",
        "        df_list.append(df_chunk)\n",
        "        print(f\"Processed {filename}\")\n",
        "\n",
        "# Concatenate all DataFrames in the list\n",
        "combined_df = pd.concat(df_list, ignore_index=True)\n",
        "\n",
        "# Save the combined DataFrame to a single CSV file\n",
        "combined_df.to_csv(output_file, index=False)"
      ],
      "metadata": {
        "colab": {
          "base_uri": "https://localhost:8080/"
        },
        "id": "THoNwA4QUqAb",
        "outputId": "8ca2dd22-6d5a-4e40-da5b-6ba73db314dc"
      },
      "execution_count": null,
      "outputs": [
        {
          "output_type": "stream",
          "name": "stdout",
          "text": [
            "Processed parkinsonism_altdrug_chunk_0.csv\n",
            "Processed parkinsonism_altdrug_chunk_1.csv\n",
            "Processed parkinsonism_altdrug_chunk_2.csv\n",
            "Processed parkinsonism_altdrug_chunk_3.csv\n",
            "Processed parkinsonism_altdrug_chunk_4.csv\n"
          ]
        }
      ]
    }
  ],
  "metadata": {
    "colab": {
      "provenance": []
    },
    "kernelspec": {
      "display_name": "Python 3",
      "name": "python3"
    },
    "language_info": {
      "name": "python"
    }
  },
  "nbformat": 4,
  "nbformat_minor": 0
}