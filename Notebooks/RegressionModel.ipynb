{
  "nbformat": 4,
  "nbformat_minor": 0,
  "metadata": {
    "colab": {
      "provenance": []
    },
    "kernelspec": {
      "name": "python3",
      "display_name": "Python 3"
    },
    "language_info": {
      "name": "python"
    }
  },
  "cells": [
    {
      "cell_type": "code",
      "execution_count": null,
      "metadata": {
        "id": "OfumiRdvLuFc",
        "colab": {
          "base_uri": "https://localhost:8080/"
        },
        "outputId": "52a934e3-2d21-4860-f712-87874562a071"
      },
      "outputs": [
        {
          "output_type": "stream",
          "name": "stdout",
          "text": [
            "Drive already mounted at /content/drive; to attempt to forcibly remount, call drive.mount(\"/content/drive\", force_remount=True).\n"
          ]
        }
      ],
      "source": [
        "from google.colab import drive\n",
        "drive.mount('/content/drive')"
      ]
    },
    {
      "cell_type": "code",
      "source": [
        "import pandas as pd\n",
        "import numpy as np\n",
        "!pip install scikit-learn==1.5.0\n",
        "from sklearn.impute import SimpleImputer\n",
        "from sklearn.preprocessing import StandardScaler, OneHotEncoder, MinMaxScaler, RobustScaler\n",
        "from sklearn.compose import ColumnTransformer\n",
        "from sklearn.pipeline import Pipeline, FunctionTransformer\n",
        "from sklearn.ensemble import RandomForestRegressor, GradientBoostingRegressor\n",
        "from sklearn.model_selection import train_test_split, GridSearchCV\n",
        "import lightgbm as lgb\n",
        "from sklearn.metrics import mean_absolute_error, mean_squared_error, r2_score\n",
        "from sklearn import tree\n",
        "from sklearn import linear_model\n",
        "from sklearn.linear_model import Ridge, Lasso, SGDRegressor\n",
        "import lightgbm as lgb\n",
        "from sklearn.gaussian_process import GaussianProcessRegressor\n",
        "from sklearn.gaussian_process.kernels import RBF, ConstantKernel as C\n",
        "from sklearn.cross_decomposition import PLSRegression, PLSCanonical, CCA\n",
        "from sklearn.naive_bayes import MultinomialNB\n",
        "from sklearn.metrics import accuracy_score\n",
        "from sklearn.experimental import enable_hist_gradient_boosting\n",
        "from sklearn.ensemble import HistGradientBoostingRegressor\n",
        "!pip show scikit-learn\n",
        "import pickle"
      ],
      "metadata": {
        "id": "71Ze_keiMWfR",
        "colab": {
          "base_uri": "https://localhost:8080/"
        },
        "outputId": "78cb78d9-1447-48fa-a031-80fb84d2c6d2"
      },
      "execution_count": null,
      "outputs": [
        {
          "output_type": "stream",
          "name": "stdout",
          "text": [
            "Requirement already satisfied: scikit-learn==1.5.0 in /usr/local/lib/python3.10/dist-packages (1.5.0)\n",
            "Requirement already satisfied: numpy>=1.19.5 in /usr/local/lib/python3.10/dist-packages (from scikit-learn==1.5.0) (1.25.2)\n",
            "Requirement already satisfied: scipy>=1.6.0 in /usr/local/lib/python3.10/dist-packages (from scikit-learn==1.5.0) (1.11.4)\n",
            "Requirement already satisfied: joblib>=1.2.0 in /usr/local/lib/python3.10/dist-packages (from scikit-learn==1.5.0) (1.4.2)\n",
            "Requirement already satisfied: threadpoolctl>=3.1.0 in /usr/local/lib/python3.10/dist-packages (from scikit-learn==1.5.0) (3.5.0)\n",
            "Name: scikit-learn\n",
            "Version: 1.5.0\n",
            "Summary: A set of python modules for machine learning and data mining\n",
            "Home-page: https://scikit-learn.org\n",
            "Author: \n",
            "Author-email: \n",
            "License: new BSD\n",
            "Location: /usr/local/lib/python3.10/dist-packages\n",
            "Requires: joblib, numpy, scipy, threadpoolctl\n",
            "Required-by: bigframes, fastai, imbalanced-learn, librosa, mlxtend, qudida, sklearn-pandas, yellowbrick\n"
          ]
        }
      ]
    },
    {
      "cell_type": "code",
      "source": [
        "# Data loading and preprocessing\n",
        "\n",
        "filepath = '/content/drive/My Drive/CSV/final_results.csv'\n",
        "data_df = pd.read_csv(filepath)\n",
        "#remove useless data\n",
        "data_df.drop(columns=[\"NCT Numbers\"], inplace=True)\n",
        "\n",
        "pd.set_option('display.max_columns',None)  # Show all columns\n",
        "pd.set_option('display.expand_frame_repr', False)  # Do not wrap columns\n",
        "print(data_df)"
      ],
      "metadata": {
        "id": "mTVDr21RM2S6",
        "colab": {
          "base_uri": "https://localhost:8080/"
        },
        "outputId": "99baa203-540c-49ca-ee7b-01b5d2495b36"
      },
      "execution_count": null,
      "outputs": [
        {
          "output_type": "stream",
          "name": "stdout",
          "text": [
            "             Drug             Indication  Total Women Reports  Total Men Reports  Percentage Women Reports  Percentage Men Reports  Percentage Serious Women Reports  Percentage Serious Men Reports  Num Studies  Total females in studies  Total males in studies  Female proportion in studies  Male proportion in studies                          Most relevant studies  Number of participants in most relevant studies  Number of female participants in most relevant studies  Number of male participants in most relevant studies  Proportion of females in most relevant studies  Proportion of males in most relevant studies  Prevalence Men  Prevalence Women  Prevalence Both Genders\n",
            "0     CLOPIDOGREL  MYOCARDIAL INFARCTION                  167                294                     36.23                   63.77                             98.20                           88.78         64.0                   10918.0                 30130.0                         26.60                       73.40  ['NCT00305162', 'NCT00257309', 'NCT00623623']                                            39302                                              10378                                                   28924                                          26.405781                                     73.594219        2.670455          1.035000                 1.809545\n",
            "1    TENECTEPLASE  MYOCARDIAL INFARCTION                   57                 37                     60.64                   39.36                             98.25                           97.30          9.0                     838.0                  3116.0                         21.19                       78.81  ['NCT00257309', 'NCT00623623', 'NCT00604695']                                            21628                                               5608                                                   16020                                          25.929351                                     74.070649        2.670455          1.035000                 1.809545\n",
            "2         ASPIRIN  MYOCARDIAL INFARCTION                  332                424                     43.92                   56.08                             98.80                           92.92         42.0                   80264.0                   993.0                         98.78                        1.22  ['NCT00000479', 'NCT02545933', 'NCT00684203']                                            80246                                              79888                                                     358                                          99.553872                                      0.446128        2.670455          1.035000                 1.809545\n",
            "3        RAMIPRIL  MYOCARDIAL INFARCTION                    6                  8                     42.86                   57.14                            100.00                          100.00          4.0                    2836.0                  8944.0                         24.07                       75.93                 ['NCT02924727', 'NCT03715998']                                            11780                                               2836                                                    8944                                          24.074703                                     75.925297        2.670455          1.035000                 1.809545\n",
            "4       PRASUGREL  MYOCARDIAL INFARCTION                    3                 29                      9.38                   90.62                              0.00                           93.10         21.0                      86.0                   252.0                         25.44                       74.56                 ['NCT02545933', 'NCT02075125']                                              338                                                 86                                                     252                                          25.443787                                     74.556213        2.670455          1.035000                 1.809545\n",
            "..            ...                    ...                  ...                ...                       ...                     ...                               ...                             ...          ...                       ...                     ...                           ...                         ...                                            ...                                              ...                                                ...                                                     ...                                                ...                                           ...             ...               ...                      ...\n",
            "282    TOPIRAMATE            PARKINSON'S                   30                  0                    100.00                    0.00                            100.00                           -1.00          3.0                      31.0                    56.0                         35.63                       64.37                 ['NCT01789047', 'NCT00794313']                                               87                                                 31                                                      56                                          35.632184                                     64.367816        0.521111          0.336667                 0.418333\n",
            "283    ROTIGOTINE            PARKINSON'S                  114                222                     33.93                   66.07                             83.33                           97.75         31.0                    2824.0                  4435.0                         38.90                       61.10  ['NCT00522379', 'NCT01523301', 'NCT01300819']                                             2486                                               1052                                                    1434                                          42.316975                                     57.683025        0.521111          0.336667                 0.418333\n",
            "284   APOMORPHINE            PARKINSON'S                   17                 82                     17.17                   82.83                            100.00                          100.00         14.0                     146.0                   288.0                         33.64                       66.36                 ['NCT03391882', 'NCT02006121']                                              434                                                146                                                     288                                          33.640553                                     66.359447        0.521111          0.336667                 0.418333\n",
            "285     CARBIDOPA            PARKINSON'S                   13                  5                     72.22                   27.78                            100.00                          100.00         52.0                    2892.0                  3984.0                         42.06                       57.94  ['NCT00099268', 'NCT01568073', 'NCT01227655']                                             3504                                               1532                                                    1972                                          43.721461                                     56.278539        0.521111          0.336667                 0.418333\n",
            "286        SODIUM            PARKINSON'S                    0                 50                      0.00                  100.00                             -1.00                          100.00          4.0                      12.0                    38.0                         24.00                       76.00                                ['NCT00623363']                                               50                                                 12                                                      38                                          24.000000                                     76.000000        0.521111          0.336667                 0.418333\n",
            "\n",
            "[287 rows x 22 columns]\n"
          ]
        }
      ]
    },
    {
      "cell_type": "code",
      "source": [
        "# data normalization\n",
        "\n",
        "def divide_by_100(x):\n",
        "    return x/100\n",
        "\n",
        "divide_transformer = FunctionTransformer(divide_by_100)\n",
        "# data normalization\n",
        "preprocessor = ColumnTransformer(\n",
        "    transformers=[\n",
        "        # OneHotEncode 'Indication'\n",
        "        ('categorical', OneHotEncoder(), ['Indication']),\n",
        "\n",
        "        # Scale percentages (assuming they are already in the range [0, 1])\n",
        "        ('percentages', divide_transformer, [\n",
        "            'Percentage Women Reports', 'Percentage Men Reports',\n",
        "            'Female proportion in studies', 'Male proportion in studies',\n",
        "            'Proportion of females in most relevant studies', 'Proportion of males in most relevant studies'\n",
        "        ]),\n",
        "\n",
        "        # Scale 'Prevalence Men' and 'Prevalence Women' using RobustScaler\n",
        "        # ('prevalence', RobustScaler(), ['Prevalence Men', 'Prevalence Women', 'Prevalence Both Genders']),\n",
        "\n",
        "        # Scale 'Num Studies' using MinMaxScaler\n",
        "        ('num', MinMaxScaler(), ['Num Studies', 'Total females in studies','Total males in studies', 'Number of participants in most relevant studies','Number of female participants in most relevant studies', 'Number of male participants in most relevant studies'])\n",
        "    ]\n",
        ")\n",
        "\n",
        "transformed_data = preprocessor.fit_transform(data_df)\n",
        "\n",
        "# Get the transformed column names\n",
        "transformed_columns = (\n",
        "    preprocessor.transformers_[0][1].get_feature_names_out(['Indication']).tolist() +\n",
        "    [\n",
        "        # 'Percentage Women Reports',\n",
        "        # 'Percentage Men Reports',\n",
        "        'Total females in studies',\n",
        "        'Total males in studies',\n",
        "        'Female proportion in studies',\n",
        "        'Male proportion in studies',\n",
        "        'Proportion of females in most relevant studies',\n",
        "        'Proportion of males in most relevant studies',\n",
        "        # 'Prevalence Men',\n",
        "        # 'Prevalence Women',\n",
        "        # 'Prevalence Both Genders',\n",
        "        'Num Studies',\n",
        "        'Number of participants in most relevant studies',\n",
        "        'Number of female participants in most relevant studies',\n",
        "        'Number of male participants in most relevant studies'\n",
        "    ]\n",
        ")\n",
        "\n",
        "\n",
        "# Convert the transformed data to a DataFrame\n",
        "transformed_df = pd.DataFrame(transformed_data, columns=transformed_columns)\n",
        "print(transformed_df)"
      ],
      "metadata": {
        "colab": {
          "base_uri": "https://localhost:8080/"
        },
        "id": "5lZA_v4Rp8hq",
        "outputId": "23bd8197-61d4-4795-9364-9cbe6ee80b24"
      },
      "execution_count": null,
      "outputs": [
        {
          "output_type": "stream",
          "name": "stdout",
          "text": [
            "     Indication_ASTHMA  Indication_CHRONIC OBSTRUCTIVE PULMONARY DISEASE  Indication_DEMENTIA  Indication_DIABETES  Indication_EPILEPSY  Indication_HEART FAILURE  Indication_HYPERTENSION  Indication_ISCHEMIC HEART DISEASE  Indication_MULTIPLE SCLEROSIS  Indication_MYOCARDIAL INFARCTION  Indication_PARKINSON'S  Indication_SCHIZOPHRENIA  Indication_STROKE  Total females in studies  Total males in studies  Female proportion in studies  Male proportion in studies  Proportion of females in most relevant studies  Proportion of males in most relevant studies  Num Studies  Number of participants in most relevant studies  Number of female participants in most relevant studies  Number of male participants in most relevant studies  Percentage Women Reports\n",
            "0                  0.0                                               0.0                  0.0                  0.0                  0.0                       0.0                      0.0                                0.0                            0.0                               1.0                     0.0                       0.0                0.0                    0.2660                  0.7340                      0.264058                    0.735942                                        0.069714                                      0.004218     0.013896                                         0.008258                                           0.004009                                                0.013341                        36.23\n",
            "1                  0.0                                               0.0                  0.0                  0.0                  0.0                       0.0                      0.0                                0.0                            0.0                               1.0                     0.0                       0.0                0.0                    0.2119                  0.7881                      0.259294                    0.740706                                        0.006857                                      0.000324     0.001437                                         0.004542                                           0.002167                                                0.007389                        60.64\n",
            "2                  0.0                                               0.0                  0.0                  0.0                  0.0                       0.0                      0.0                                0.0                            0.0                               1.0                     0.0                       0.0                0.0                    0.9878                  0.0122                      0.995539                    0.004461                                        0.044571                                      0.031008     0.000458                                         0.016866                                           0.030863                                                0.000165                        43.92\n",
            "3                  0.0                                               0.0                  0.0                  0.0                  0.0                       0.0                      0.0                                0.0                            0.0                               1.0                     0.0                       0.0                0.0                    0.2407                  0.7593                      0.240747                    0.759253                                        0.001143                                      0.001096     0.004125                                         0.002472                                           0.001096                                                0.004125                        42.86\n",
            "4                  0.0                                               0.0                  0.0                  0.0                  0.0                       0.0                      0.0                                0.0                            0.0                               1.0                     0.0                       0.0                0.0                    0.2544                  0.7456                      0.254438                    0.745562                                        0.020571                                      0.000033     0.000116                                         0.000066                                           0.000033                                                0.000116                         9.38\n",
            "..                 ...                                               ...                  ...                  ...                  ...                       ...                      ...                                ...                            ...                               ...                     ...                       ...                ...                       ...                     ...                           ...                         ...                                             ...                                           ...          ...                                              ...                                                ...                                                     ...                          ...\n",
            "282                0.0                                               0.0                  0.0                  0.0                  0.0                       0.0                      0.0                                0.0                            0.0                               0.0                     1.0                       0.0                0.0                    0.3563                  0.6437                      0.356322                    0.643678                                        0.000000                                      0.000012     0.000026                                         0.000014                                           0.000012                                                0.000026                       100.00\n",
            "283                0.0                                               0.0                  0.0                  0.0                  0.0                       0.0                      0.0                                0.0                            0.0                               0.0                     1.0                       0.0                0.0                    0.3890                  0.6110                      0.423170                    0.576830                                        0.032000                                      0.001091     0.002045                                         0.000518                                           0.000406                                                0.000661                        33.93\n",
            "284                0.0                                               0.0                  0.0                  0.0                  0.0                       0.0                      0.0                                0.0                            0.0                               0.0                     1.0                       0.0                0.0                    0.3364                  0.6636                      0.336406                    0.663594                                        0.012571                                      0.000056     0.000133                                         0.000087                                           0.000056                                                0.000133                        17.17\n",
            "285                0.0                                               0.0                  0.0                  0.0                  0.0                       0.0                      0.0                                0.0                            0.0                               0.0                     1.0                       0.0                0.0                    0.4206                  0.5794                      0.437215                    0.562785                                        0.056000                                      0.001117     0.001837                                         0.000732                                           0.000592                                                0.000910                        72.22\n",
            "286                0.0                                               0.0                  0.0                  0.0                  0.0                       0.0                      0.0                                0.0                            0.0                               0.0                     1.0                       0.0                0.0                    0.2400                  0.7600                      0.240000                    0.760000                                        0.001143                                      0.000005     0.000018                                         0.000006                                           0.000005                                                0.000018                         0.00\n",
            "\n",
            "[287 rows x 24 columns]\n"
          ]
        }
      ]
    },
    {
      "cell_type": "code",
      "source": [
        "# define inputs and outputs\n",
        "# exclude_columns = [\n",
        "#     'Percentage Women Reports',\n",
        "#     'Percentage Men Reports',\n",
        "#     'Proportion of females in most relevant studies',\n",
        "#     'Proportion of males in most relevant studies',\n",
        "#     'Female proportion in studies',\n",
        "#     'Male proportion in studies',\n",
        "#     'Prevalence Men',\n",
        "#     'Prevalence Women',\n",
        "#     'Prevalence Both Genders',\n",
        "# ]\n",
        "# X = transformed_df.drop(columns=exclude_columns)\n",
        "X = transformed_df[[\n",
        "            'Indication_ASTHMA',\n",
        "             'Indication_CHRONIC OBSTRUCTIVE PULMONARY DISEASE',\n",
        "             'Indication_DEMENTIA',\n",
        "             'Indication_DIABETES',\n",
        "             'Indication_EPILEPSY',\n",
        "             'Indication_HEART FAILURE',\n",
        "             'Indication_HYPERTENSION',\n",
        "             'Indication_ISCHEMIC HEART DISEASE',\n",
        "             'Indication_MULTIPLE SCLEROSIS',\n",
        "             'Indication_MYOCARDIAL INFARCTION',\n",
        "             \"Indication_PARKINSON'S\",\n",
        "             'Indication_SCHIZOPHRENIA',\n",
        "             'Indication_STROKE',\n",
        "            'Total females in studies',\n",
        "            'Total males in studies',\n",
        "            'Num Studies',\n",
        "            'Number of participants in most relevant studies',\n",
        "            'Number of female participants in most relevant studies',\n",
        "            'Number of male participants in most relevant studies',\n",
        "            ]]\n",
        "\n",
        "y = transformed_df[\"Percentage Women Reports\"]\n",
        "\n",
        "# divide into test, train, val\n",
        "X_train, X_test, y_train, y_test = train_test_split(X, y, test_size=0.2, random_state=42)\n"
      ],
      "metadata": {
        "id": "oApHNEcXt_ex"
      },
      "execution_count": null,
      "outputs": []
    },
    {
      "cell_type": "code",
      "source": [
        "# define model\n",
        "model = RandomForestRegressor(random_state=42)\n",
        "# model = tree.DecisionTreeRegressor(random_state=42)\n",
        "# model = linear_model.LinearRegression()\n",
        "# model = Ridge(random_state=42)\n",
        "# model = Lasso(random_state=42)\n",
        "# model = lgb.LGBMRegressor(random_state=42)\n",
        "# model = SGDRegressor(random_state=42)\n",
        "# kernel = C(1.0, (1e-4, 1e1)) * RBF(1.0, (1e-4, 1e1))\n",
        "# model = GaussianProcessRegressor(kernel=kernel, n_restarts_optimizer=15, random_state=42)\n",
        "# model = HistGradientBoostingRegressor(random_state=42)"
      ],
      "metadata": {
        "id": "DauzHLo81HcL"
      },
      "execution_count": null,
      "outputs": []
    },
    {
      "cell_type": "code",
      "source": [
        "# parameter tuning\n",
        "# random forest params\n",
        "param_grid = {\n",
        "    'n_estimators': [50, 100, 200],\n",
        "    'max_depth': [None, 10, 20, 30],\n",
        "    'min_samples_split': [2, 5, 10],\n",
        "    'min_samples_leaf': [1, 2, 4],\n",
        "    'max_features': ['auto', 'sqrt', 'log2'],\n",
        "    'bootstrap': [True, False]\n",
        "}\n",
        "\n",
        "# grid search\n",
        "grid_search = GridSearchCV(estimator=model, param_grid=param_grid, cv=5, n_jobs=-1, verbose=2, scoring='neg_mean_squared_error')\n",
        "grid_search.fit(X_train, y_train)\n",
        "best_model = grid_search.best_estimator_"
      ],
      "metadata": {
        "id": "C3wKQaYLDj2-",
        "colab": {
          "base_uri": "https://localhost:8080/"
        },
        "outputId": "e63244d4-031e-48fd-a04b-62560793cc34"
      },
      "execution_count": null,
      "outputs": [
        {
          "output_type": "stream",
          "name": "stdout",
          "text": [
            "Fitting 5 folds for each of 648 candidates, totalling 3240 fits\n"
          ]
        },
        {
          "output_type": "stream",
          "name": "stderr",
          "text": [
            "/usr/local/lib/python3.10/dist-packages/sklearn/model_selection/_validation.py:540: FitFailedWarning: \n",
            "1080 fits failed out of a total of 3240.\n",
            "The score on these train-test partitions for these parameters will be set to nan.\n",
            "If these failures are not expected, you can try to debug them by setting error_score='raise'.\n",
            "\n",
            "Below are more details about the failures:\n",
            "--------------------------------------------------------------------------------\n",
            "1080 fits failed with the following error:\n",
            "Traceback (most recent call last):\n",
            "  File \"/usr/local/lib/python3.10/dist-packages/sklearn/model_selection/_validation.py\", line 888, in _fit_and_score\n",
            "    estimator.fit(X_train, y_train, **fit_params)\n",
            "  File \"/usr/local/lib/python3.10/dist-packages/sklearn/base.py\", line 1466, in wrapper\n",
            "    estimator._validate_params()\n",
            "  File \"/usr/local/lib/python3.10/dist-packages/sklearn/base.py\", line 666, in _validate_params\n",
            "    validate_parameter_constraints(\n",
            "  File \"/usr/local/lib/python3.10/dist-packages/sklearn/utils/_param_validation.py\", line 95, in validate_parameter_constraints\n",
            "    raise InvalidParameterError(\n",
            "sklearn.utils._param_validation.InvalidParameterError: The 'max_features' parameter of RandomForestRegressor must be an int in the range [1, inf), a float in the range (0.0, 1.0], a str among {'sqrt', 'log2'} or None. Got 'auto' instead.\n",
            "\n",
            "  warnings.warn(some_fits_failed_message, FitFailedWarning)\n",
            "/usr/local/lib/python3.10/dist-packages/sklearn/model_selection/_search.py:1052: UserWarning: One or more of the test scores are non-finite: [        nan         nan         nan         nan         nan         nan\n",
            "         nan         nan         nan         nan         nan         nan\n",
            "         nan         nan         nan         nan         nan         nan\n",
            "         nan         nan         nan         nan         nan         nan\n",
            "         nan         nan         nan -0.09089359 -0.09236626 -0.09197198\n",
            " -0.09032098 -0.08954353 -0.0893512  -0.08491163 -0.08458406 -0.08459256\n",
            " -0.08797183 -0.08782287 -0.08729963 -0.08696322 -0.08757154 -0.08738268\n",
            " -0.08493044 -0.08395204 -0.08387088 -0.08262071 -0.08290056 -0.08302539\n",
            " -0.08262071 -0.08290056 -0.08302539 -0.0821925  -0.08241788 -0.08286545\n",
            " -0.09089359 -0.09236626 -0.09197198 -0.09032098 -0.08954353 -0.0893512\n",
            " -0.08491163 -0.08458406 -0.08459256 -0.08797183 -0.08782287 -0.08729963\n",
            " -0.08696322 -0.08757154 -0.08738268 -0.08493044 -0.08395204 -0.08387088\n",
            " -0.08262071 -0.08290056 -0.08302539 -0.08262071 -0.08290056 -0.08302539\n",
            " -0.0821925  -0.08241788 -0.08286545         nan         nan         nan\n",
            "         nan         nan         nan         nan         nan         nan\n",
            "         nan         nan         nan         nan         nan         nan\n",
            "         nan         nan         nan         nan         nan         nan\n",
            "         nan         nan         nan         nan         nan         nan\n",
            " -0.08923695 -0.09031979 -0.08939595 -0.08844399 -0.08892695 -0.08846055\n",
            " -0.08362689 -0.08345358 -0.08356293 -0.0865632  -0.08643821 -0.08588253\n",
            " -0.08644944 -0.08660714 -0.08611062 -0.08367336 -0.0831289  -0.08305729\n",
            " -0.08243396 -0.08271942 -0.0828148  -0.08243396 -0.08271942 -0.0828148\n",
            " -0.08204022 -0.08226529 -0.08266039 -0.08923695 -0.09031979 -0.08939595\n",
            " -0.08844399 -0.08892695 -0.08846055 -0.08362689 -0.08345358 -0.08356293\n",
            " -0.0865632  -0.08643821 -0.08588253 -0.08644944 -0.08660714 -0.08611062\n",
            " -0.08367336 -0.0831289  -0.08305729 -0.08243396 -0.08271942 -0.0828148\n",
            " -0.08243396 -0.08271942 -0.0828148  -0.08204022 -0.08226529 -0.08266039\n",
            "         nan         nan         nan         nan         nan         nan\n",
            "         nan         nan         nan         nan         nan         nan\n",
            "         nan         nan         nan         nan         nan         nan\n",
            "         nan         nan         nan         nan         nan         nan\n",
            "         nan         nan         nan -0.09017417 -0.09235295 -0.09210831\n",
            " -0.08997944 -0.08950807 -0.08939413 -0.08470182 -0.08448749 -0.08454642\n",
            " -0.08797933 -0.08786941 -0.08735843 -0.08701394 -0.08760866 -0.08739519\n",
            " -0.08493044 -0.08396763 -0.08388195 -0.08262071 -0.08290056 -0.08302539\n",
            " -0.08262071 -0.08290056 -0.08302539 -0.0821925  -0.08241788 -0.08286545\n",
            " -0.09017417 -0.09235295 -0.09210831 -0.08997944 -0.08950807 -0.08939413\n",
            " -0.08470182 -0.08448749 -0.08454642 -0.08797933 -0.08786941 -0.08735843\n",
            " -0.08701394 -0.08760866 -0.08739519 -0.08493044 -0.08396763 -0.08388195\n",
            " -0.08262071 -0.08290056 -0.08302539 -0.08262071 -0.08290056 -0.08302539\n",
            " -0.0821925  -0.08241788 -0.08286545         nan         nan         nan\n",
            "         nan         nan         nan         nan         nan         nan\n",
            "         nan         nan         nan         nan         nan         nan\n",
            "         nan         nan         nan         nan         nan         nan\n",
            "         nan         nan         nan         nan         nan         nan\n",
            " -0.09089359 -0.09236626 -0.09197198 -0.09032098 -0.08954353 -0.0893512\n",
            " -0.08491163 -0.08458406 -0.08459256 -0.08797183 -0.08782287 -0.08729963\n",
            " -0.08696322 -0.08757154 -0.08738268 -0.08493044 -0.08395204 -0.08387088\n",
            " -0.08262071 -0.08290056 -0.08302539 -0.08262071 -0.08290056 -0.08302539\n",
            " -0.0821925  -0.08241788 -0.08286545 -0.09089359 -0.09236626 -0.09197198\n",
            " -0.09032098 -0.08954353 -0.0893512  -0.08491163 -0.08458406 -0.08459256\n",
            " -0.08797183 -0.08782287 -0.08729963 -0.08696322 -0.08757154 -0.08738268\n",
            " -0.08493044 -0.08395204 -0.08387088 -0.08262071 -0.08290056 -0.08302539\n",
            " -0.08262071 -0.08290056 -0.08302539 -0.0821925  -0.08241788 -0.08286545\n",
            "         nan         nan         nan         nan         nan         nan\n",
            "         nan         nan         nan         nan         nan         nan\n",
            "         nan         nan         nan         nan         nan         nan\n",
            "         nan         nan         nan         nan         nan         nan\n",
            "         nan         nan         nan -0.11088939 -0.11087009 -0.11102185\n",
            " -0.1058613  -0.10475896 -0.10384073 -0.09512694 -0.0947072  -0.09452191\n",
            " -0.1003124  -0.09968065 -0.09964546 -0.09875674 -0.09829286 -0.09798185\n",
            " -0.09228439 -0.09214434 -0.09195656 -0.08903882 -0.08880558 -0.0887641\n",
            " -0.08903882 -0.08880558 -0.0887641  -0.08854992 -0.08844253 -0.08771492\n",
            " -0.11088939 -0.11087009 -0.11102185 -0.1058613  -0.10475896 -0.10384073\n",
            " -0.09512694 -0.0947072  -0.09452191 -0.1003124  -0.09968065 -0.09964546\n",
            " -0.09875674 -0.09829286 -0.09798185 -0.09228439 -0.09214434 -0.09195656\n",
            " -0.08903882 -0.08880558 -0.0887641  -0.08903882 -0.08880558 -0.0887641\n",
            " -0.08854992 -0.08844253 -0.08771492         nan         nan         nan\n",
            "         nan         nan         nan         nan         nan         nan\n",
            "         nan         nan         nan         nan         nan         nan\n",
            "         nan         nan         nan         nan         nan         nan\n",
            "         nan         nan         nan         nan         nan         nan\n",
            " -0.10156444 -0.10108227 -0.10054302 -0.09947584 -0.09886148 -0.0987954\n",
            " -0.09203452 -0.09195745 -0.09164745 -0.09762098 -0.09683506 -0.09634857\n",
            " -0.09588981 -0.09588897 -0.09582036 -0.0898872  -0.09040264 -0.08979556\n",
            " -0.08816982 -0.08814919 -0.08793528 -0.08816982 -0.08814919 -0.08793528\n",
            " -0.08772274 -0.0877814  -0.08695075 -0.10156444 -0.10108227 -0.10054302\n",
            " -0.09947584 -0.09886148 -0.0987954  -0.09203452 -0.09195745 -0.09164745\n",
            " -0.09762098 -0.09683506 -0.09634857 -0.09588981 -0.09588897 -0.09582036\n",
            " -0.0898872  -0.09040264 -0.08979556 -0.08816982 -0.08814919 -0.08793528\n",
            " -0.08816982 -0.08814919 -0.08793528 -0.08772274 -0.0877814  -0.08695075\n",
            "         nan         nan         nan         nan         nan         nan\n",
            "         nan         nan         nan         nan         nan         nan\n",
            "         nan         nan         nan         nan         nan         nan\n",
            "         nan         nan         nan         nan         nan         nan\n",
            "         nan         nan         nan -0.10717138 -0.10827446 -0.10965157\n",
            " -0.10634647 -0.10537355 -0.1042512  -0.09491068 -0.09476516 -0.09465959\n",
            " -0.10089016 -0.1001103  -0.09984555 -0.09882605 -0.09839592 -0.09804544\n",
            " -0.09232294 -0.09215488 -0.09199831 -0.08903882 -0.08880558 -0.0887641\n",
            " -0.08903882 -0.08880558 -0.0887641  -0.08854992 -0.08844253 -0.08771492\n",
            " -0.10717138 -0.10827446 -0.10965157 -0.10634647 -0.10537355 -0.1042512\n",
            " -0.09491068 -0.09476516 -0.09465959 -0.10089016 -0.1001103  -0.09984555\n",
            " -0.09882605 -0.09839592 -0.09804544 -0.09232294 -0.09215488 -0.09199831\n",
            " -0.08903882 -0.08880558 -0.0887641  -0.08903882 -0.08880558 -0.0887641\n",
            " -0.08854992 -0.08844253 -0.08771492         nan         nan         nan\n",
            "         nan         nan         nan         nan         nan         nan\n",
            "         nan         nan         nan         nan         nan         nan\n",
            "         nan         nan         nan         nan         nan         nan\n",
            "         nan         nan         nan         nan         nan         nan\n",
            " -0.11088939 -0.1107986  -0.11100972 -0.1058613  -0.10475896 -0.10384073\n",
            " -0.09512694 -0.0947072  -0.09452191 -0.1003124  -0.09968065 -0.09964546\n",
            " -0.09875674 -0.09829286 -0.09798185 -0.09228439 -0.09214434 -0.09195656\n",
            " -0.08903882 -0.08880558 -0.0887641  -0.08903882 -0.08880558 -0.0887641\n",
            " -0.08854992 -0.08844253 -0.08771492 -0.11088939 -0.1107986  -0.11100972\n",
            " -0.1058613  -0.10475896 -0.10384073 -0.09512694 -0.0947072  -0.09452191\n",
            " -0.1003124  -0.09968065 -0.09964546 -0.09875674 -0.09829286 -0.09798185\n",
            " -0.09228439 -0.09214434 -0.09195656 -0.08903882 -0.08880558 -0.0887641\n",
            " -0.08903882 -0.08880558 -0.0887641  -0.08854992 -0.08844253 -0.08771492]\n",
            "  warnings.warn(\n"
          ]
        }
      ]
    },
    {
      "cell_type": "code",
      "source": [
        "# Baseline model prediction\n",
        "# Calculate the mean of the target variable in the training set\n",
        "n_samples = len(y_test)\n",
        "mean_target = np.mean(y_train)\n",
        "\n",
        "# Mean predictions (same value for all instances)\n",
        "mean_predictions = np.full(n_samples, mean_target)\n",
        "\n",
        "# Calculate MAE and MSE for the mean predictor\n",
        "mean_mae = mean_absolute_error(y_test, mean_predictions)\n",
        "mean_mse = mean_squared_error(y_test, mean_predictions)\n",
        "\n",
        "print(f'Mean Predictor - MAE: {mean_mae}')\n",
        "print(f'Mean Predictor - MSE: {mean_mse}')"
      ],
      "metadata": {
        "colab": {
          "base_uri": "https://localhost:8080/"
        },
        "id": "ipKeYP_gnvfF",
        "outputId": "1d0babe0-cfe5-435e-a07b-8354d46bca4a"
      },
      "execution_count": null,
      "outputs": [
        {
          "output_type": "stream",
          "name": "stdout",
          "text": [
            "Mean Predictor - MAE: 0.21008965517241376\n",
            "Mean Predictor - MSE: 0.07126753585999109\n"
          ]
        }
      ]
    },
    {
      "cell_type": "code",
      "source": [
        "# test set\n",
        "y_test_pred = best_model.predict(X_test)\n",
        "\n",
        "# evaluate performance\n",
        "test_mae = mean_absolute_error(y_test, y_test_pred)\n",
        "test_mse = mean_squared_error(y_test, y_test_pred)\n",
        "test_r2 = r2_score(y_test, y_test_pred)\n",
        "\n",
        "\n",
        "print(f'Test MAE: {test_mae}')\n",
        "print(f'Test MSE: {test_mse}')\n",
        "print(f'Test R2: {test_r2}')"
      ],
      "metadata": {
        "colab": {
          "base_uri": "https://localhost:8080/"
        },
        "id": "1X2O6Y6d3-Zo",
        "outputId": "ed87df83-a841-4428-ed70-9247dd935328"
      },
      "execution_count": null,
      "outputs": [
        {
          "output_type": "stream",
          "name": "stdout",
          "text": [
            "Test MAE: 0.18315010662455306\n",
            "Test MSE: 0.05958122553401254\n",
            "Test R2: 0.13767958564259664\n"
          ]
        }
      ]
    },
    {
      "cell_type": "code",
      "source": [
        "# save model with pickle\n",
        "save_path = '/content/drive/My Drive/Models/'\n",
        "\n",
        "# Save the best model and preprocessor\n",
        "with open(save_path + 'regression_model.pkl', 'wb') as f:\n",
        "    pickle.dump(best_model, f)\n",
        "\n",
        "with open(save_path + 'preprocessor.pkl', 'wb') as f:\n",
        "    pickle.dump(preprocessor, f)"
      ],
      "metadata": {
        "id": "SoqiOAU1qTxN"
      },
      "execution_count": null,
      "outputs": []
    }
  ]
}